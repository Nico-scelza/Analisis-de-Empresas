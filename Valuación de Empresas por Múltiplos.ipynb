{
  "nbformat": 4,
  "nbformat_minor": 0,
  "metadata": {
    "colab": {
      "provenance": [],
      "authorship_tag": "ABX9TyOYR0v2372QNkmej5aTolSV"
    },
    "kernelspec": {
      "name": "python3",
      "display_name": "Python 3"
    },
    "language_info": {
      "name": "python"
    }
  },
  "cells": [
    {
      "cell_type": "code",
      "execution_count": null,
      "metadata": {
        "id": "0gaiI17klnk5"
      },
      "outputs": [],
      "source": [
        "import requests\n",
        "import pandas as pd\n",
        "import time\n",
        "from tabulate import tabulate\n",
        "import numpy as np\n",
        "import yfinance as yf"
      ]
    },
    {
      "cell_type": "code",
      "source": [
        "def solicitar_tickers():\n",
        "    print(\"Bienvenido al valuador por múltiplos comparables.\")\n",
        "    ticker_objetivo = input(\"Ingrese el ticker de la empresa que desea valuar: \").strip().upper()\n",
        "    tickers_comparables = []\n",
        "    print('\\nIngrese los tickers de las empresas comparables uno por uno. Presione Enter sin escribir nada para terminar (mínimo 1).')\n",
        "    while True:\n",
        "        ticker = input(f\"Ingrese ticker comparable #{len(tickers_comparables)+1}: \").strip()\n",
        "        if ticker == \"\":\n",
        "            if len(tickers_comparables) >= 1:\n",
        "                break\n",
        "            else:\n",
        "                print(\"Debe ingresar al menos un ticker comparable.\")\n",
        "                continue\n",
        "        tickers_comparables.append(ticker.upper())\n",
        "    print(f\"\\nTicker a valuar: {ticker_objetivo}\")\n",
        "    print(f\"Tickers comparables: {', '.join(tickers_comparables)}\")\n",
        "    return ticker_objetivo, tickers_comparables\n",
        "\n",
        "ticker_objetivo, tickers_comparables = solicitar_tickers()"
      ],
      "metadata": {
        "id": "ehGQx0QGl2PL"
      },
      "execution_count": null,
      "outputs": []
    },
    {
      "cell_type": "code",
      "source": [
        "def obtener_ratios_yahoo_finance(ticker):\n",
        "    try:\n",
        "        stock = yf.Ticker(ticker)\n",
        "        info = stock.info\n",
        "\n",
        "        # Calcular Price / Free Cash Flow (P/FCF)\n",
        "        market_cap = info.get(\"marketCap\", None)\n",
        "        free_cash_flow = info.get(\"freeCashflow\", None)\n",
        "        try:\n",
        "            pfcf = market_cap / free_cash_flow if (market_cap is not None and free_cash_flow not in [None, 0]) else None\n",
        "        except Exception:\n",
        "            pfcf = None\n",
        "\n",
        "        ratios = {\n",
        "            \"Ticker\": ticker,\n",
        "            \"EV / EBITDA\": info.get(\"enterpriseToEbitda\", None),\n",
        "            \"Price / Earnings (P/E)\": info.get(\"trailingPE\", None),\n",
        "            \"EV / Revenue\": info.get(\"enterpriseToRevenue\", None),\n",
        "            \"Price / Free Cash Flow (P/FCF)\": pfcf,\n",
        "            \"Price / Book Value\": info.get(\"priceToBook\", None),\n",
        "            \"Return on Assets (ROA)\": info.get(\"returnOnAssets\", None),\n",
        "            \"Return on Equity (ROE)\": info.get(\"returnOnEquity\", None),\n",
        "            \"Net Profit Margin\": info.get(\"profitMargins\", None),\n",
        "            \"Dividend Yield\": info.get(\"dividendYield\", None)\n",
        "        }\n",
        "        return ratios\n",
        "    except Exception as e:\n",
        "        print(f\"Error obteniendo datos para {ticker}: {e}\")\n",
        "        return {\n",
        "            \"Ticker\": ticker,\n",
        "            \"EV / EBITDA\": None,\n",
        "            \"Price / Earnings (P/E)\": None,\n",
        "            \"EV / Revenue\": None,\n",
        "            \"Price / Free Cash Flow (P/FCF)\": None,\n",
        "            \"Price / Book Value\": None,\n",
        "            \"Return on Assets (ROA)\": None,\n",
        "            \"Return on Equity (ROE)\": None,\n",
        "            \"Net Profit Margin\": None,\n",
        "            \"Dividend Yield\": None\n",
        "        }\n",
        "\n",
        "# Uso (no necesitas renombrar después)\n",
        "ratios_objetivo = obtener_ratios_yahoo_finance(ticker_objetivo)\n",
        "df_objetivo = pd.DataFrame([ratios_objetivo])\n",
        "\n",
        "comparables_data = []\n",
        "for ticker in tickers_comparables:\n",
        "    comparables_data.append(obtener_ratios_yahoo_finance(ticker))\n",
        "\n",
        "df_comparables = pd.DataFrame(comparables_data)"
      ],
      "metadata": {
        "id": "vzGUkJdQuuLZ"
      },
      "execution_count": null,
      "outputs": []
    },
    {
      "cell_type": "code",
      "source": [
        "print(\"Empresa objetivo:\")\n",
        "print(tabulate(df_objetivo, headers='keys', tablefmt='fancy_grid', showindex=False))\n",
        "\n",
        "print(\"\\nEmpresas comparables:\")\n",
        "print(tabulate(df_comparables, headers='keys', tablefmt='fancy_grid', showindex=False))"
      ],
      "metadata": {
        "id": "QfWP7r8frKR-"
      },
      "execution_count": null,
      "outputs": []
    },
    {
      "cell_type": "code",
      "source": [
        "# Selecciona columnas numéricas (excluyendo 'Ticker')\n",
        "ratios_cols = [col for col in df_comparables.columns if col != \"Ticker\"]\n",
        "\n",
        "# Calcular promedio de cada ratio\n",
        "promedio = df_comparables[ratios_cols].apply(pd.to_numeric, errors='coerce').mean(axis=0)\n",
        "fila_promedio = {col: promedio[col] for col in ratios_cols}\n",
        "fila_promedio[\"Ticker\"] = \"Promedio de ratios\"\n",
        "\n",
        "# Multiplicar los valores de la empresa objetivo por el promedio\n",
        "empresa_vals = df_objetivo.iloc[0][ratios_cols].apply(pd.to_numeric, errors='coerce')\n",
        "fila_valor_coef = {col: empresa_vals[col] * promedio[col] for col in ratios_cols}\n",
        "fila_valor_coef[\"Ticker\"] = \"Valor por coeficiente\"\n",
        "\n",
        "# Crear nuevo DataFrame solo con esas dos filas\n",
        "df_resumen = pd.DataFrame([fila_promedio, fila_valor_coef], columns=df_comparables.columns)\n",
        "\n",
        "# Mostrar con tabulate\n",
        "print(tabulate(df_resumen, headers=\"keys\", tablefmt=\"fancy_grid\", showindex=False))"
      ],
      "metadata": {
        "id": "aoLxEQsArQG0"
      },
      "execution_count": null,
      "outputs": []
    },
    {
      "cell_type": "code",
      "source": [
        "# Buscar la fila \"Valor por coeficiente\"\n",
        "fila_valor_coef = df_resumen[df_resumen[\"Ticker\"] == \"Valor por coeficiente\"]\n",
        "\n",
        "# Tomar solo las columnas numéricas (ignorando 'Ticker')\n",
        "ratios_cols = [col for col in df_resumen.columns if col != \"Ticker\"]\n",
        "valores = fila_valor_coef[ratios_cols].iloc[0].apply(pd.to_numeric, errors='coerce')\n",
        "\n",
        "# Ponderaciones (deben coincidir los nombres con ratios_cols)\n",
        "ponderaciones = {\n",
        "    \"EV / EBITDA\": 0.25,\n",
        "    \"Price / Earnings (P/E)\": 0.15,\n",
        "    \"EV / Revenue\": 0.10,\n",
        "    \"Price / Free Cash Flow (P/FCF)\": 0.20,\n",
        "    \"Price / Book Value\": 0.05,\n",
        "    \"Return on Assets (ROA)\": 0.05,\n",
        "    \"Return on Equity (ROE)\": 0.05,\n",
        "    \"Net Profit Margin\": 0.05,\n",
        "    \"Dividend Yield\": 0.10\n",
        "}\n",
        "\n",
        "# Filtrar ponderaciones solo para las columnas presentes y no NaN\n",
        "ratios_validos = [col for col in ratios_cols if not pd.isna(valores[col])]\n",
        "ponderaciones_validas = [ponderaciones[col] for col in ratios_validos]\n",
        "valores_validos = [valores[col] for col in ratios_validos]\n",
        "\n",
        "# Normalizar ponderaciones si falta algún ratio\n",
        "ponderaciones_normalizadas = [p / sum(ponderaciones_validas) for p in ponderaciones_validas]\n",
        "\n",
        "# Calcular el valor ponderado\n",
        "valor_empresa = sum(v * p for v, p in zip(valores_validos, ponderaciones_normalizadas))\n",
        "\n",
        "print(f\"El valor estimado de la empresa (ponderado) es: {valor_empresa:.2f}\")"
      ],
      "metadata": {
        "id": "lUMDtr85sL2D"
      },
      "execution_count": null,
      "outputs": []
    }
  ]
}