{
 "cells": [
  {
   "cell_type": "code",
   "execution_count": 1,
   "metadata": {
    "executionInfo": {
     "elapsed": 1553,
     "status": "ok",
     "timestamp": 1737475649415,
     "user": {
      "displayName": "Nicolás Scelza",
      "userId": "07215751523148741848"
     },
     "user_tz": 180
    },
    "id": "3EVP_DK6SDiQ"
   },
   "outputs": [],
   "source": [
    "import requests\n",
    "import pandas as pd\n",
    "import matplotlib.pyplot as plt\n",
    "from matplotlib.ticker import MaxNLocator"
   ]
  },
  {
   "cell_type": "markdown",
   "metadata": {
    "id": "8-PPfxZCSQMh"
   },
   "source": [
    "API KEY"
   ]
  },
  {
   "cell_type": "code",
   "execution_count": 2,
   "metadata": {
    "executionInfo": {
     "elapsed": 5,
     "status": "ok",
     "timestamp": 1737475649416,
     "user": {
      "displayName": "Nicolás Scelza",
      "userId": "07215751523148741848"
     },
     "user_tz": 180
    },
    "id": "TbTcY68QSObn"
   },
   "outputs": [],
   "source": [
    "api_key = input(\"Inserte su API Key de Alpha Vantage: \")"
   ]
  },
  {
   "cell_type": "markdown",
   "metadata": {
    "id": "WI7QLhRgTSOS"
   },
   "source": [
    "INPUTS"
   ]
  },
  {
   "cell_type": "code",
   "execution_count": null,
   "metadata": {
    "colab": {
     "base_uri": "https://localhost:8080/"
    },
    "executionInfo": {
     "elapsed": 9915,
     "status": "ok",
     "timestamp": 1737475659327,
     "user": {
      "displayName": "Nicolás Scelza",
      "userId": "07215751523148741848"
     },
     "user_tz": 180
    },
    "id": "E1nCV__MTVcI",
    "outputId": "db902b39-b007-4bf1-c1a7-b00898fa6802"
   },
   "outputs": [],
   "source": [
    "symbol = input(\"Inserte el ticker de la empresa/ETF: \").upper()\n",
    "\n",
    "\n",
    "print(\"Estas son las opciones: \")\n",
    "print(\"1. Balance Sheet\")\n",
    "print(\"2. Income Statement\")\n",
    "print(\"3. Cash Flow\")\n",
    "print(\"4. Historial de dividendos\")\n",
    "print(\"5. Resumen de la empresa\")\n",
    "print(\"6. Perfil de ETFs y tenencias\")\n",
    "print(\"7. EPS\")\n",
    "print(\"8. Precios históricos\")\n",
    "\n",
    "while True:\n",
    "  try:\n",
    "    opcion = int(input(\"Inserte la opción que desea: \"))\n",
    "    if opcion < 1 or opcion > 8:\n",
    "      print(\"Inserte una opción válida\")\n",
    "    else:\n",
    "      break\n",
    "  except ValueError:\n",
    "    print(\"Inserte una opción válida\")\n",
    "\n",
    "while True:\n",
    "  if opcion == 1:\n",
    "    sheet = \"BALANCE_SHEET\"\n",
    "    break\n",
    "  elif opcion == 2:\n",
    "    sheet = \"INCOME_STATEMENT\"\n",
    "    break\n",
    "  elif opcion == 3:\n",
    "    sheet = \"CASH_FLOW\"\n",
    "    break\n",
    "  elif opcion == 4:\n",
    "    sheet = \"DIVIDENDS\"\n",
    "    break\n",
    "  elif opcion == 5:\n",
    "    sheet = \"OVERVIEW\"\n",
    "    break\n",
    "  elif opcion == 6:\n",
    "    sheet = \"ETF_PROFILE\"\n",
    "    break\n",
    "  elif opcion == 8:\n",
    "    sheet = \"TIME_SERIES_DAILY\"\n",
    "    break\n",
    "  elif opcion == 7:\n",
    "    sheet = \"EARNINGS\"\n",
    "    break"
   ]
  },
  {
   "cell_type": "code",
   "execution_count": 4,
   "metadata": {
    "executionInfo": {
     "elapsed": 2,
     "status": "ok",
     "timestamp": 1737475659327,
     "user": {
      "displayName": "Nicolás Scelza",
      "userId": "07215751523148741848"
     },
     "user_tz": 180
    },
    "id": "z6Qg0tV_RuWP"
   },
   "outputs": [],
   "source": [
    "if opcion >= 1 and opcion <= 7:\n",
    "  url = f'https://www.alphavantage.co/query?function={sheet}&symbol={symbol}&apikey={api_key}'\n",
    "\n",
    "  r = requests.get(url)\n",
    "  data = r.json()\n",
    "else:\n",
    "  url = f'https://www.alphavantage.co/query?function={sheet}&symbol={symbol}&outputsize=full&apikey={api_key}'\n",
    "\n",
    "  r = requests.get(url)\n",
    "  data = r.json()"
   ]
  },
  {
   "cell_type": "markdown",
   "metadata": {
    "id": "nEJSBWmGZtdg"
   },
   "source": [
    "DATAFRAME A EXCEL"
   ]
  },
  {
   "cell_type": "code",
   "execution_count": 5,
   "metadata": {
    "colab": {
     "base_uri": "https://localhost:8080/",
     "height": 271
    },
    "executionInfo": {
     "elapsed": 2174,
     "status": "ok",
     "timestamp": 1737475661499,
     "user": {
      "displayName": "Nicolás Scelza",
      "userId": "07215751523148741848"
     },
     "user_tz": 180
    },
    "id": "fXkEC3fsS8pn",
    "outputId": "07d13d43-785d-4c26-b304-070f6b975322"
   },
   "outputs": [],
   "source": [
    "if opcion >= 1 and opcion <= 6:\n",
    "  if 'annualReports' in data:\n",
    "      reports = data['annualReports']\n",
    "      df = pd.DataFrame(reports)\n",
    "\n",
    "      df.to_excel(f'{symbol}_{sheet}.xlsx')\n",
    "  else:\n",
    "      print(\"La clave 'annualReports' no se encontró en la respuesta JSON\")\n",
    "elif opcion == 7:\n",
    "  if 'annualEarnings' in data:\n",
    "    earnings = data['annualEarnings']\n",
    "    df = pd.DataFrame(earnings)\n",
    "\n",
    "    df.to_excel(f'{symbol}_{sheet}.xlsx')\n",
    "elif opcion == 8:\n",
    "  if 'Time Series (Daily)' in data:\n",
    "    time_series = data['Time Series (Daily)']\n",
    "    df = pd.DataFrame.from_dict(time_series, orient='index')\n",
    "    df.index = pd.to_datetime(df.index)\n",
    "    df = df[['4. close']].rename(columns={'4. close': 'Close'})\n",
    "\n",
    "    # Convertir la columna 'Close' a tipo float\n",
    "    df['Close'] = df['Close'].astype(float)\n",
    "\n",
    "    # Ordenar el DataFrame por fecha\n",
    "    df = df.sort_index()\n",
    "\n",
    "    # Guardar el DataFrame como un archivo Excel\n",
    "    df.to_excel(f'{symbol}_precios.xlsx')\n",
    "\n",
    "    print(df)\n",
    "  else:\n",
    "    print(\"No se encontraron datos de precios en la respuesta JSON\")"
   ]
  },
  {
   "cell_type": "markdown",
   "metadata": {
    "id": "BJPcxt9jaFoa"
   },
   "source": [
    "GRAFICO PRECIO"
   ]
  },
  {
   "cell_type": "code",
   "execution_count": null,
   "metadata": {
    "colab": {
     "base_uri": "https://localhost:8080/",
     "height": 564
    },
    "executionInfo": {
     "elapsed": 1026,
     "status": "ok",
     "timestamp": 1737475662523,
     "user": {
      "displayName": "Nicolás Scelza",
      "userId": "07215751523148741848"
     },
     "user_tz": 180
    },
    "id": "R7TlmwDOaOyS",
    "outputId": "9db4cdd0-5112-4ece-b1a4-f2b048cc662e"
   },
   "outputs": [],
   "source": [
    "if opcion == 8:\n",
    "  plt.figure(figsize=(10, 6))\n",
    "  plt.plot(df.index, df['Close'], label='Precio de Cierre')\n",
    "  plt.xlabel('Fecha')\n",
    "  plt.ylabel('Precio de Cierre (USD)')\n",
    "  plt.title(f'Precios diarios de {symbol}')\n",
    "  plt.legend()\n",
    "  plt.grid(True)\n",
    "\n",
    "  # Usar MaxNLocator para ajustar los ticks del eje Y\n",
    "  plt.gca().yaxis.set_major_locator(MaxNLocator(integer=True))\n",
    "\n",
    "  # Establecer el rango del eje Y desde 0 hasta el valor máximo de cierre\n",
    "  plt.ylim(0, df['Close'].max() + (df['Close'].max() * 0.1))  # Añadimos un 10% extra al valor máximo para mejor visualización\n",
    "\n",
    "  # Mostrar el gráfico\n",
    "  plt.show()"
   ]
  }
 ],
 "metadata": {
  "colab": {
   "authorship_tag": "ABX9TyOlyQI1mqOylitZfiAjnOEX",
   "provenance": []
  },
  "kernelspec": {
   "display_name": "Python 3",
   "name": "python3"
  },
  "language_info": {
   "codemirror_mode": {
    "name": "ipython",
    "version": 3
   },
   "file_extension": ".py",
   "mimetype": "text/x-python",
   "name": "python",
   "nbconvert_exporter": "python",
   "pygments_lexer": "ipython3",
   "version": "3.13.1"
  }
 },
 "nbformat": 4,
 "nbformat_minor": 0
}
