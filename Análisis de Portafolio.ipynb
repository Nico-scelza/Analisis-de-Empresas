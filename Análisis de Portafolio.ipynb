{
  "nbformat": 4,
  "nbformat_minor": 0,
  "metadata": {
    "colab": {
      "provenance": [],
      "authorship_tag": "ABX9TyPi6hryQRHcuR4kkN7mAbJl"
    },
    "kernelspec": {
      "name": "python3",
      "display_name": "Python 3"
    },
    "language_info": {
      "name": "python"
    }
  },
  "cells": [
    {
      "cell_type": "code",
      "execution_count": null,
      "metadata": {
        "id": "CVP-GtrXGb91"
      },
      "outputs": [],
      "source": [
        "import yfinance as yf\n",
        "import pandas as pd\n",
        "import numpy as np"
      ]
    },
    {
      "cell_type": "markdown",
      "source": [
        "COMPOSICIÓN PORTAFOLIO"
      ],
      "metadata": {
        "id": "JgsyqWzSLpqu"
      }
    },
    {
      "cell_type": "code",
      "source": [
        "def solicitar_portafolio():\n",
        "    print(\"Ingrese los activos de su portafolio y la ponderación de cada uno (en porcentaje).\")\n",
        "    print(\"Ejemplo: AAPL; 20\")\n",
        "    print(\"La suma de las ponderaciones no debe superar el 100%.\\n\")\n",
        "    print(\"IMPORTANTE: El ticker debe estar disponible en Yahoo Finance, ya que es la API utilizada para obtener precios.\\n\")\n",
        "\n",
        "    activos = []\n",
        "    suma_ponderaciones = 0.0\n",
        "\n",
        "    while True:\n",
        "        activo = input(\"Nombre del activo (o 'fin' para terminar): \").strip().upper()\n",
        "        if activo.lower() == 'fin':\n",
        "            break\n",
        "\n",
        "        # Validación de ticker en Yahoo Finance\n",
        "        try:\n",
        "            test = yf.Ticker(activo)\n",
        "            hist = test.history(period=\"1d\")\n",
        "            if hist.empty:\n",
        "                print(f\"El ticker '{activo}' no está disponible o no tiene datos en Yahoo Finance. Por favor, ingrese un ticker válido.\")\n",
        "                continue\n",
        "        except Exception as e:\n",
        "            print(f\"Error al comprobar el ticker '{activo}': {e}\")\n",
        "            continue\n",
        "\n",
        "        try:\n",
        "            ponderacion = float(input(f\"Ponderación de {activo} (%): \"))\n",
        "        except ValueError:\n",
        "            print(\"Por favor ingrese un número válido para la ponderación.\")\n",
        "            continue\n",
        "\n",
        "        if ponderacion <= 0 or ponderacion > 100:\n",
        "            print(\"La ponderación debe ser mayor a 0 y menor o igual a 100.\")\n",
        "            continue\n",
        "\n",
        "        if suma_ponderaciones + ponderacion > 100:\n",
        "            print(f\"La suma de las ponderaciones excedería el 100%. Actualmente: {suma_ponderaciones}%.\")\n",
        "            continue\n",
        "\n",
        "        activos.append((activo, ponderacion))\n",
        "        suma_ponderaciones += ponderacion\n",
        "        print(f\"Activo agregado: {activo} con ponderación {ponderacion}%. Suma actual: {suma_ponderaciones}%.\")\n",
        "\n",
        "        if suma_ponderaciones == 100:\n",
        "            print(\"Has alcanzado el 100% de ponderación en tu portafolio.\")\n",
        "            break\n",
        "\n",
        "    if suma_ponderaciones == 0:\n",
        "        print(\"No se ingresaron activos válidos.\")\n",
        "        return []\n",
        "\n",
        "    print(\"\\nPortafolio final:\")\n",
        "    for activo, ponderacion in activos:\n",
        "        print(f\"- {activo}: {ponderacion}%\")\n",
        "    return activos\n",
        "\n",
        "portafolio = solicitar_portafolio()"
      ],
      "metadata": {
        "id": "YY6ofe5-J0Xk"
      },
      "execution_count": null,
      "outputs": []
    },
    {
      "cell_type": "markdown",
      "source": [
        "EXTRACCIÓN DE DATOS YAHOO FINANCE"
      ],
      "metadata": {
        "id": "YawzGEq1LswA"
      }
    },
    {
      "cell_type": "code",
      "source": [
        "# Extrae los símbolos del portafolio\n",
        "simbolos = [a[0].upper() for a in portafolio]\n",
        "\n",
        "# Descarga precios históricos ajustados (solo columna 'Close')\n",
        "datos = yf.download(simbolos, start='1900-01-01', progress=False, auto_adjust=True)['Close']\n",
        "\n",
        "# Si solo hay un activo, convierte a DataFrame\n",
        "if isinstance(datos, pd.Series):\n",
        "    datos = datos.to_frame()\n",
        "\n",
        "# Calcula los rendimientos diarios (returns)\n",
        "retornos = datos.pct_change().dropna()\n",
        "\n",
        "# Muestra los primeros valores\n",
        "retornos.head()"
      ],
      "metadata": {
        "id": "yPHv6_Z7KeGJ"
      },
      "execution_count": null,
      "outputs": []
    },
    {
      "cell_type": "markdown",
      "source": [
        "CALCULO DE VOLATILIDAD (RIESGO) DE CADA ACTIVO"
      ],
      "metadata": {
        "id": "T0c2F0KATkR6"
      }
    },
    {
      "cell_type": "code",
      "source": [
        "# Calcula el desvío estándar anual de cada activo en porcentaje\n",
        "desvios_anuales = retornos.std() * (252 ** 0.5) * 100\n",
        "\n",
        "print(\"Desvío estándar anual (volatilidad) de cada activo (%):\")\n",
        "for ticker, vol in desvios_anuales.round(2).items():\n",
        "    print(f\"{ticker}: {vol:.2f}%\")"
      ],
      "metadata": {
        "id": "G8IAF2iTTqzn"
      },
      "execution_count": null,
      "outputs": []
    },
    {
      "cell_type": "markdown",
      "source": [
        "BETA DE CADA ACTIVO"
      ],
      "metadata": {
        "id": "LX694wU2UkRI"
      }
    },
    {
      "cell_type": "code",
      "source": [
        "print(\"Beta de cada activo según Yahoo Finance:\")\n",
        "\n",
        "for ticker in simbolos:\n",
        "    info = yf.Ticker(ticker).info\n",
        "    beta = info.get(\"beta\", None)\n",
        "    if beta is not None:\n",
        "        print(f\"{ticker}: {beta:.2f}\")\n",
        "    else:\n",
        "        print(f\"{ticker}: Beta no disponible\")"
      ],
      "metadata": {
        "id": "JEB5XiIjUluj"
      },
      "execution_count": null,
      "outputs": []
    },
    {
      "cell_type": "markdown",
      "source": [
        "CALCULO DEL COEFICIENTE DE CORRELACION"
      ],
      "metadata": {
        "id": "MUU5mSpdNR1B"
      }
    },
    {
      "cell_type": "code",
      "source": [
        "# Limita la visualización de decimales en pandas a 4\n",
        "pd.options.display.float_format = '{:.4f}'.format\n",
        "\n",
        "# Calcula la matriz de correlación\n",
        "matriz_correlacion = retornos.corr()\n",
        "np.fill_diagonal(matriz_correlacion.values, np.nan)\n",
        "\n",
        "# Función para resaltar máximo y mínimo por columna\n",
        "def highlight_max_min_col(col):\n",
        "    max_val = np.nanmax(col.values)\n",
        "    min_val = np.nanmin(col.values)\n",
        "    return [\n",
        "        'background-color: #00ff00' if v == max_val else\n",
        "        'background-color: #ff0000' if v == min_val else\n",
        "        ''\n",
        "        for v in col.values\n",
        "    ]\n",
        "\n",
        "# Aplica el estilo por columnas\n",
        "matriz_correlacion.style.apply(highlight_max_min_col, axis=0)"
      ],
      "metadata": {
        "id": "a3ODtB6XLoym"
      },
      "execution_count": null,
      "outputs": []
    },
    {
      "cell_type": "markdown",
      "source": [
        "CALCULO DE VOLATILIDAD (RIESGO) DE PORTAFOLIO"
      ],
      "metadata": {
        "id": "aXUaq9VbNg0j"
      }
    },
    {
      "cell_type": "code",
      "source": [
        "# Calcula la matriz de covarianzas\n",
        "matriz_covarianza = retornos.cov()\n",
        "\n",
        "# Obtiene las ponderaciones como proporciones (no porcentaje)\n",
        "ponderaciones = np.array([a[1] / 100 for a in portafolio])\n",
        "\n",
        "# Calcula la varianza y volatilidad diaria del portafolio\n",
        "varianza_portafolio = np.dot(ponderaciones.T, np.dot(matriz_covarianza, ponderaciones))\n",
        "volatilidad_diaria = np.sqrt(varianza_portafolio)\n",
        "\n",
        "# Anualiza la volatilidad (usando 252 días hábiles)\n",
        "volatilidad_anual = volatilidad_diaria * np.sqrt(252)\n",
        "\n",
        "# Muestra la volatilidad anual en términos porcentuales\n",
        "print(f\"Volatilidad anual del portafolio: {volatilidad_anual * 100:.2f}%\")"
      ],
      "metadata": {
        "id": "n4Q5pQTVNheS"
      },
      "execution_count": null,
      "outputs": []
    }
  ]
}