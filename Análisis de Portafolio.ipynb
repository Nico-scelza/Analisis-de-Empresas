{
  "nbformat": 4,
  "nbformat_minor": 0,
  "metadata": {
    "colab": {
      "provenance": [],
      "authorship_tag": "ABX9TyOIz0J8KOp3GDbOi5iE6zo0"
    },
    "kernelspec": {
      "name": "python3",
      "display_name": "Python 3"
    },
    "language_info": {
      "name": "python"
    }
  },
  "cells": [
    {
      "cell_type": "code",
      "execution_count": 28,
      "metadata": {
        "id": "CVP-GtrXGb91"
      },
      "outputs": [],
      "source": [
        "import yfinance as yf\n",
        "import pandas as pd\n",
        "import numpy as np"
      ]
    },
    {
      "cell_type": "markdown",
      "source": [
        "COMPOSICIÓN PORTAFOLIO"
      ],
      "metadata": {
        "id": "JgsyqWzSLpqu"
      }
    },
    {
      "cell_type": "code",
      "source": [
        "def solicitar_portafolio():\n",
        "    print(\"Ingrese los activos de su portafolio y la ponderación de cada uno (en porcentaje).\")\n",
        "    print(\"Ejemplo: AAPL; 20\")\n",
        "    print(\"La suma de las ponderaciones no debe superar el 100%.\\n\")\n",
        "    print(\"IMPORTANTE: El ticker debe estar disponible en Yahoo Finance, ya que es la API utilizada para obtener precios.\\n\")\n",
        "\n",
        "    activos = []\n",
        "    suma_ponderaciones = 0.0\n",
        "\n",
        "    while True:\n",
        "        activo = input(\"Nombre del activo (o 'fin' para terminar): \").strip().upper()\n",
        "        if activo.lower() == 'fin':\n",
        "            break\n",
        "\n",
        "        # Validación de ticker en Yahoo Finance\n",
        "        try:\n",
        "            test = yf.Ticker(activo)\n",
        "            hist = test.history(period=\"1d\")\n",
        "            if hist.empty:\n",
        "                print(f\"El ticker '{activo}' no está disponible o no tiene datos en Yahoo Finance. Por favor, ingrese un ticker válido.\")\n",
        "                continue\n",
        "        except Exception as e:\n",
        "            print(f\"Error al comprobar el ticker '{activo}': {e}\")\n",
        "            continue\n",
        "\n",
        "        try:\n",
        "            ponderacion = float(input(f\"Ponderación de {activo} (%): \"))\n",
        "        except ValueError:\n",
        "            print(\"Por favor ingrese un número válido para la ponderación.\")\n",
        "            continue\n",
        "\n",
        "        if ponderacion <= 0 or ponderacion > 100:\n",
        "            print(\"La ponderación debe ser mayor a 0 y menor o igual a 100.\")\n",
        "            continue\n",
        "\n",
        "        if suma_ponderaciones + ponderacion > 100:\n",
        "            print(f\"La suma de las ponderaciones excedería el 100%. Actualmente: {suma_ponderaciones}%.\")\n",
        "            continue\n",
        "\n",
        "        activos.append((activo, ponderacion))\n",
        "        suma_ponderaciones += ponderacion\n",
        "        print(f\"Activo agregado: {activo} con ponderación {ponderacion}%. Suma actual: {suma_ponderaciones}%.\")\n",
        "\n",
        "        if suma_ponderaciones == 100:\n",
        "            print(\"Has alcanzado el 100% de ponderación en tu portafolio.\")\n",
        "            break\n",
        "\n",
        "    if suma_ponderaciones == 0:\n",
        "        print(\"No se ingresaron activos válidos.\")\n",
        "        return []\n",
        "\n",
        "    print(\"\\nPortafolio final:\")\n",
        "    for activo, ponderacion in activos:\n",
        "        print(f\"- {activo}: {ponderacion}%\")\n",
        "    return activos\n",
        "\n",
        "# Ejecuta esto en una celda para guardar el resultado del portafolio\n",
        "portafolio = solicitar_portafolio()"
      ],
      "metadata": {
        "colab": {
          "base_uri": "https://localhost:8080/",
          "height": 606
        },
        "id": "YY6ofe5-J0Xk",
        "outputId": "97a91731-1148-4dcb-e6c2-3adec665bdeb"
      },
      "execution_count": 29,
      "outputs": [
        {
          "name": "stdout",
          "output_type": "stream",
          "text": [
            "Ingrese los activos de su portafolio y la ponderación de cada uno (en porcentaje).\n",
            "Ejemplo: AAPL; 20\n",
            "La suma de las ponderaciones no debe superar el 100%.\n",
            "\n",
            "IMPORTANTE: El ticker debe estar disponible en Yahoo Finance, ya que es la API utilizada para obtener precios.\n",
            "\n",
            "Nombre del activo (o 'fin' para terminar): alua\n"
          ]
        },
        {
          "output_type": "stream",
          "name": "stderr",
          "text": [
            "ERROR:yfinance:$ALUA: possibly delisted; no price data found  (period=1d) (Yahoo error = \"No data found, symbol may be delisted\")\n"
          ]
        },
        {
          "name": "stdout",
          "output_type": "stream",
          "text": [
            "El ticker 'ALUA' no está disponible o no tiene datos en Yahoo Finance. Por favor, ingrese un ticker válido.\n",
            "Nombre del activo (o 'fin' para terminar): aluar\n"
          ]
        },
        {
          "output_type": "stream",
          "name": "stderr",
          "text": [
            "ERROR:yfinance:$ALUAR: possibly delisted; no price data found  (period=1d) (Yahoo error = \"No data found, symbol may be delisted\")\n"
          ]
        },
        {
          "name": "stdout",
          "output_type": "stream",
          "text": [
            "El ticker 'ALUAR' no está disponible o no tiene datos en Yahoo Finance. Por favor, ingrese un ticker válido.\n",
            "Nombre del activo (o 'fin' para terminar): mes\n"
          ]
        },
        {
          "output_type": "stream",
          "name": "stderr",
          "text": [
            "ERROR:yfinance:$MES: possibly delisted; no price data found  (period=1d) (Yahoo error = \"No data found, symbol may be delisted\")\n"
          ]
        },
        {
          "output_type": "stream",
          "name": "stdout",
          "text": [
            "El ticker 'MES' no está disponible o no tiene datos en Yahoo Finance. Por favor, ingrese un ticker válido.\n"
          ]
        },
        {
          "output_type": "error",
          "ename": "KeyboardInterrupt",
          "evalue": "Interrupted by user",
          "traceback": [
            "\u001b[0;31m---------------------------------------------------------------------------\u001b[0m",
            "\u001b[0;31mKeyboardInterrupt\u001b[0m                         Traceback (most recent call last)",
            "\u001b[0;32m/tmp/ipython-input-29-3555527740.py\u001b[0m in \u001b[0;36m<cell line: 0>\u001b[0;34m()\u001b[0m\n\u001b[1;32m     56\u001b[0m \u001b[0;34m\u001b[0m\u001b[0m\n\u001b[1;32m     57\u001b[0m \u001b[0;31m# Ejecuta esto en una celda para guardar el resultado del portafolio\u001b[0m\u001b[0;34m\u001b[0m\u001b[0;34m\u001b[0m\u001b[0m\n\u001b[0;32m---> 58\u001b[0;31m \u001b[0mportafolio\u001b[0m \u001b[0;34m=\u001b[0m \u001b[0msolicitar_portafolio\u001b[0m\u001b[0;34m(\u001b[0m\u001b[0;34m)\u001b[0m\u001b[0;34m\u001b[0m\u001b[0;34m\u001b[0m\u001b[0m\n\u001b[0m",
            "\u001b[0;32m/tmp/ipython-input-29-3555527740.py\u001b[0m in \u001b[0;36msolicitar_portafolio\u001b[0;34m()\u001b[0m\n\u001b[1;32m      9\u001b[0m \u001b[0;34m\u001b[0m\u001b[0m\n\u001b[1;32m     10\u001b[0m     \u001b[0;32mwhile\u001b[0m \u001b[0;32mTrue\u001b[0m\u001b[0;34m:\u001b[0m\u001b[0;34m\u001b[0m\u001b[0;34m\u001b[0m\u001b[0m\n\u001b[0;32m---> 11\u001b[0;31m         \u001b[0mactivo\u001b[0m \u001b[0;34m=\u001b[0m \u001b[0minput\u001b[0m\u001b[0;34m(\u001b[0m\u001b[0;34m\"Nombre del activo (o 'fin' para terminar): \"\u001b[0m\u001b[0;34m)\u001b[0m\u001b[0;34m.\u001b[0m\u001b[0mstrip\u001b[0m\u001b[0;34m(\u001b[0m\u001b[0;34m)\u001b[0m\u001b[0;34m.\u001b[0m\u001b[0mupper\u001b[0m\u001b[0;34m(\u001b[0m\u001b[0;34m)\u001b[0m\u001b[0;34m\u001b[0m\u001b[0;34m\u001b[0m\u001b[0m\n\u001b[0m\u001b[1;32m     12\u001b[0m         \u001b[0;32mif\u001b[0m \u001b[0mactivo\u001b[0m\u001b[0;34m.\u001b[0m\u001b[0mlower\u001b[0m\u001b[0;34m(\u001b[0m\u001b[0;34m)\u001b[0m \u001b[0;34m==\u001b[0m \u001b[0;34m'fin'\u001b[0m\u001b[0;34m:\u001b[0m\u001b[0;34m\u001b[0m\u001b[0;34m\u001b[0m\u001b[0m\n\u001b[1;32m     13\u001b[0m             \u001b[0;32mbreak\u001b[0m\u001b[0;34m\u001b[0m\u001b[0;34m\u001b[0m\u001b[0m\n",
            "\u001b[0;32m/usr/local/lib/python3.11/dist-packages/ipykernel/kernelbase.py\u001b[0m in \u001b[0;36mraw_input\u001b[0;34m(self, prompt)\u001b[0m\n\u001b[1;32m   1175\u001b[0m                 \u001b[0;34m\"raw_input was called, but this frontend does not support input requests.\"\u001b[0m\u001b[0;34m\u001b[0m\u001b[0;34m\u001b[0m\u001b[0m\n\u001b[1;32m   1176\u001b[0m             )\n\u001b[0;32m-> 1177\u001b[0;31m         return self._input_request(\n\u001b[0m\u001b[1;32m   1178\u001b[0m             \u001b[0mstr\u001b[0m\u001b[0;34m(\u001b[0m\u001b[0mprompt\u001b[0m\u001b[0;34m)\u001b[0m\u001b[0;34m,\u001b[0m\u001b[0;34m\u001b[0m\u001b[0;34m\u001b[0m\u001b[0m\n\u001b[1;32m   1179\u001b[0m             \u001b[0mself\u001b[0m\u001b[0;34m.\u001b[0m\u001b[0m_parent_ident\u001b[0m\u001b[0;34m[\u001b[0m\u001b[0;34m\"shell\"\u001b[0m\u001b[0;34m]\u001b[0m\u001b[0;34m,\u001b[0m\u001b[0;34m\u001b[0m\u001b[0;34m\u001b[0m\u001b[0m\n",
            "\u001b[0;32m/usr/local/lib/python3.11/dist-packages/ipykernel/kernelbase.py\u001b[0m in \u001b[0;36m_input_request\u001b[0;34m(self, prompt, ident, parent, password)\u001b[0m\n\u001b[1;32m   1217\u001b[0m             \u001b[0;32mexcept\u001b[0m \u001b[0mKeyboardInterrupt\u001b[0m\u001b[0;34m:\u001b[0m\u001b[0;34m\u001b[0m\u001b[0;34m\u001b[0m\u001b[0m\n\u001b[1;32m   1218\u001b[0m                 \u001b[0;31m# re-raise KeyboardInterrupt, to truncate traceback\u001b[0m\u001b[0;34m\u001b[0m\u001b[0;34m\u001b[0m\u001b[0m\n\u001b[0;32m-> 1219\u001b[0;31m                 \u001b[0;32mraise\u001b[0m \u001b[0mKeyboardInterrupt\u001b[0m\u001b[0;34m(\u001b[0m\u001b[0;34m\"Interrupted by user\"\u001b[0m\u001b[0;34m)\u001b[0m \u001b[0;32mfrom\u001b[0m \u001b[0;32mNone\u001b[0m\u001b[0;34m\u001b[0m\u001b[0;34m\u001b[0m\u001b[0m\n\u001b[0m\u001b[1;32m   1220\u001b[0m             \u001b[0;32mexcept\u001b[0m \u001b[0mException\u001b[0m\u001b[0;34m:\u001b[0m\u001b[0;34m\u001b[0m\u001b[0;34m\u001b[0m\u001b[0m\n\u001b[1;32m   1221\u001b[0m                 \u001b[0mself\u001b[0m\u001b[0;34m.\u001b[0m\u001b[0mlog\u001b[0m\u001b[0;34m.\u001b[0m\u001b[0mwarning\u001b[0m\u001b[0;34m(\u001b[0m\u001b[0;34m\"Invalid Message:\"\u001b[0m\u001b[0;34m,\u001b[0m \u001b[0mexc_info\u001b[0m\u001b[0;34m=\u001b[0m\u001b[0;32mTrue\u001b[0m\u001b[0;34m)\u001b[0m\u001b[0;34m\u001b[0m\u001b[0;34m\u001b[0m\u001b[0m\n",
            "\u001b[0;31mKeyboardInterrupt\u001b[0m: Interrupted by user"
          ]
        }
      ]
    },
    {
      "cell_type": "markdown",
      "source": [
        "EXTRACCIÓN DE DATOS YAHOO FINANCE"
      ],
      "metadata": {
        "id": "YawzGEq1LswA"
      }
    },
    {
      "cell_type": "code",
      "source": [
        "# Extrae los símbolos del portafolio (lista de tuplas: (símbolo, ponderación))\n",
        "simbolos = [a[0].upper() for a in portafolio]\n",
        "\n",
        "# Descarga precios históricos ajustados (solo columna 'Close')\n",
        "datos = yf.download(simbolos, start='1900-01-01', progress=False, auto_adjust=True)['Close']\n",
        "\n",
        "# Si solo hay un activo, convierte a DataFrame\n",
        "if isinstance(datos, pd.Series):\n",
        "    datos = datos.to_frame()\n",
        "\n",
        "# Calcula los rendimientos diarios (returns)\n",
        "retornos = datos.pct_change().dropna()\n",
        "\n",
        "# Muestra los primeros valores\n",
        "retornos.head()"
      ],
      "metadata": {
        "id": "yPHv6_Z7KeGJ"
      },
      "execution_count": null,
      "outputs": []
    },
    {
      "cell_type": "markdown",
      "source": [
        "CALCULO DE VOLATILIDAD (RIESGO) DE CADA ACTIVO"
      ],
      "metadata": {
        "id": "T0c2F0KATkR6"
      }
    },
    {
      "cell_type": "code",
      "source": [
        "# Calcula el desvío estándar anual (volatilidad) de cada activo en porcentaje\n",
        "desvios_anuales = retornos.std() * (252 ** 0.5) * 100\n",
        "\n",
        "print(\"Desvío estándar anual (volatilidad) de cada activo (%):\")\n",
        "for ticker, vol in desvios_anuales.round(2).items():\n",
        "    print(f\"{ticker}: {vol:.2f}%\")"
      ],
      "metadata": {
        "id": "G8IAF2iTTqzn"
      },
      "execution_count": null,
      "outputs": []
    },
    {
      "cell_type": "markdown",
      "source": [
        "BETA DE CADA ACTIVO"
      ],
      "metadata": {
        "id": "LX694wU2UkRI"
      }
    },
    {
      "cell_type": "code",
      "source": [
        "print(\"Beta de cada activo según Yahoo Finance:\")\n",
        "\n",
        "for ticker in simbolos:\n",
        "    info = yf.Ticker(ticker).info\n",
        "    beta = info.get(\"beta\", None)\n",
        "    if beta is not None:\n",
        "        print(f\"{ticker}: {beta:.2f}\")\n",
        "    else:\n",
        "        print(f\"{ticker}: Beta no disponible\")"
      ],
      "metadata": {
        "id": "JEB5XiIjUluj"
      },
      "execution_count": null,
      "outputs": []
    },
    {
      "cell_type": "markdown",
      "source": [
        "CALCULO DEL COEFICIENTE DE CORRELACION"
      ],
      "metadata": {
        "id": "MUU5mSpdNR1B"
      }
    },
    {
      "cell_type": "code",
      "source": [
        "# Limita la visualización de decimales en pandas a 4\n",
        "pd.options.display.float_format = '{:.4f}'.format\n",
        "\n",
        "# Calcula la matriz de correlación\n",
        "matriz_correlacion = retornos.corr()\n",
        "np.fill_diagonal(matriz_correlacion.values, np.nan)\n",
        "\n",
        "# Función para resaltar máximo y mínimo por columna\n",
        "def highlight_max_min_col(col):\n",
        "    max_val = np.nanmax(col.values)\n",
        "    min_val = np.nanmin(col.values)\n",
        "    return [\n",
        "        'background-color: #00ff00' if v == max_val else\n",
        "        'background-color: #ff0000' if v == min_val else\n",
        "        ''\n",
        "        for v in col.values\n",
        "    ]\n",
        "\n",
        "# Aplica el estilo por columnas\n",
        "matriz_correlacion.style.apply(highlight_max_min_col, axis=0)"
      ],
      "metadata": {
        "id": "a3ODtB6XLoym"
      },
      "execution_count": null,
      "outputs": []
    },
    {
      "cell_type": "markdown",
      "source": [
        "CALCULO DE VOLATILIDAD (RIESGO) DE PORTAFOLIO"
      ],
      "metadata": {
        "id": "aXUaq9VbNg0j"
      }
    },
    {
      "cell_type": "code",
      "source": [
        "# Calcula la matriz de covarianzas\n",
        "matriz_covarianza = retornos.cov()\n",
        "\n",
        "# Obtiene las ponderaciones como proporciones (no porcentaje)\n",
        "ponderaciones = np.array([a[1] / 100 for a in portafolio])\n",
        "\n",
        "# Calcula la varianza y volatilidad diaria del portafolio\n",
        "varianza_portafolio = np.dot(ponderaciones.T, np.dot(matriz_covarianza, ponderaciones))\n",
        "volatilidad_diaria = np.sqrt(varianza_portafolio)\n",
        "\n",
        "# Anualiza la volatilidad (usando 252 días hábiles)\n",
        "volatilidad_anual = volatilidad_diaria * np.sqrt(252)\n",
        "\n",
        "# Muestra la volatilidad anual en términos porcentuales\n",
        "print(f\"Volatilidad anual del portafolio: {volatilidad_anual * 100:.2f}%\")"
      ],
      "metadata": {
        "id": "n4Q5pQTVNheS"
      },
      "execution_count": null,
      "outputs": []
    }
  ]
}