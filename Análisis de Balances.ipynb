{
 "cells": [
  {
   "cell_type": "code",
   "execution_count": 1,
   "metadata": {
    "executionInfo": {
     "elapsed": 821,
     "status": "ok",
     "timestamp": 1737486967221,
     "user": {
      "displayName": "Nicolás Scelza",
      "userId": "07215751523148741848"
     },
     "user_tz": 180
    },
    "id": "UCrC-oiNe6j4"
   },
   "outputs": [],
   "source": [
    "import pandas as pd\n",
    "import matplotlib.pyplot as plt"
   ]
  },
  {
   "cell_type": "markdown",
   "metadata": {
    "id": "7rN_V0MugUal"
   },
   "source": [
    "INPUT SYMBOL"
   ]
  },
  {
   "cell_type": "code",
   "execution_count": 2,
   "metadata": {
    "colab": {
     "base_uri": "https://localhost:8080/"
    },
    "executionInfo": {
     "elapsed": 2304,
     "status": "ok",
     "timestamp": 1737486969523,
     "user": {
      "displayName": "Nicolás Scelza",
      "userId": "07215751523148741848"
     },
     "user_tz": 180
    },
    "id": "iBLOQjAtgVVL",
    "outputId": "2fa58654-2e9b-420c-dd79-1a92bde34b65"
   },
   "outputs": [],
   "source": [
    "symbol = input(\"Inserte el ticker de la empresa: \").upper()"
   ]
  },
  {
   "cell_type": "markdown",
   "metadata": {
    "id": "GncJZUtggJPM"
   },
   "source": [
    "CARGA DE EXCELS"
   ]
  },
  {
   "cell_type": "code",
   "execution_count": null,
   "metadata": {
    "colab": {
     "base_uri": "https://localhost:8080/",
     "height": 198
    },
    "executionInfo": {
     "elapsed": 15254,
     "status": "ok",
     "timestamp": 1737486984772,
     "user": {
      "displayName": "Nicolás Scelza",
      "userId": "07215751523148741848"
     },
     "user_tz": 180
    },
    "id": "KemjS0OcgKst",
    "outputId": "128735b2-a8d7-43f3-db5e-b59741836fcd"
   },
   "outputs": [],
   "source": [
    "print(f\"Suba los archivos {symbol}_INCOME_STATEMENT.xlsx, {symbol}_BALANCE_SHEET.xlsx y f'{symbol}_CASH_FLOW.xlsx' modificados (como se solicita en DCF.ipynb) y {symbol}_precios.xlsx sin modificar\")\n",
    "\n",
    "# Convertir los excel a DataFrames\n",
    "balance_sheet_df = pd.read_excel(f'{symbol}_BALANCE_SHEET.xlsx')\n",
    "income_statement_df = pd.read_excel(f'{symbol}_INCOME_STATEMENT.xlsx')\n",
    "cash_flow_df = pd.read_excel(f'{symbol}_CASH_FLOW.xlsx')\n",
    "prices_df = pd.read_excel(f'{symbol}_precios.xlsx')"
   ]
  },
  {
   "cell_type": "markdown",
   "metadata": {
    "id": "e9M7CL0_z_SK"
   },
   "source": [
    "COCIENTE CORRIENTE"
   ]
  },
  {
   "cell_type": "code",
   "execution_count": 4,
   "metadata": {
    "executionInfo": {
     "elapsed": 5,
     "status": "ok",
     "timestamp": 1737486984773,
     "user": {
      "displayName": "Nicolás Scelza",
      "userId": "07215751523148741848"
     },
     "user_tz": 180
    },
    "id": "b5g7PHMPv7f4"
   },
   "outputs": [],
   "source": [
    "# Buscar las filas correspondientes a 'totalCurrentAssets' y 'totalCurrentLiabilities' en la segunda columna\n",
    "total_current_assets = balance_sheet_df[balance_sheet_df.iloc[:, 0] == 'totalCurrentAssets']\n",
    "total_current_liabilities = balance_sheet_df[balance_sheet_df.iloc[:, 0] == 'totalCurrentLiabilities']\n",
    "\n",
    "# Asegurarse de que se encontró una única fila para cada uno\n",
    "if total_current_assets.shape[0] != 1 or total_current_liabilities.shape[0] != 1:\n",
    "    raise ValueError(\"No se encontraron filas únicas para 'totalCurrentAssets' o 'totalCurrentLiabilities'\")\n",
    "\n",
    "# Obtener los valores excluyendo la primera columna (que contiene el nombre de las filas)\n",
    "total_current_assets_values = total_current_assets.iloc[0, 1:].astype(float)\n",
    "total_current_liabilities_values = total_current_liabilities.iloc[0, 1:].astype(float)\n",
    "\n",
    "# Calcular el Cociente Corriente\n",
    "Cociente_corriente = (total_current_liabilities_values / total_current_assets_values) * 100\n",
    "\n",
    "# Crear un nuevo DataFrame para los ratios de liquidez en formato de porcentaje\n",
    "ratios_liquidez_df = pd.DataFrame({\n",
    "    'Fecha': total_current_assets.columns[1:],  # Excluyendo la primera columna\n",
    "    'Cociente Corriente': Cociente_corriente\n",
    "})\n",
    "\n",
    "# Convertir los valores a formato de porcentaje\n",
    "ratios_liquidez_df['Cociente Corriente'] = ratios_liquidez_df['Cociente Corriente'].map(\"{:.2f}%\".format)\n",
    "\n",
    "# Ajustar el índice del DataFrame para evitar duplicación de la columna Fecha\n",
    "ratios_liquidez_df.set_index('Fecha', inplace=True)"
   ]
  },
  {
   "cell_type": "markdown",
   "metadata": {
    "id": "5DwE9dnN0E1p"
   },
   "source": [
    "RELACION DE PRUEBA ACIDA"
   ]
  },
  {
   "cell_type": "code",
   "execution_count": 5,
   "metadata": {
    "executionInfo": {
     "elapsed": 4,
     "status": "ok",
     "timestamp": 1737486984773,
     "user": {
      "displayName": "Nicolás Scelza",
      "userId": "07215751523148741848"
     },
     "user_tz": 180
    },
    "id": "zbMBCXhW0Gyx"
   },
   "outputs": [],
   "source": [
    "# Buscar las filas correspondientes a 'totalCurrentAssets', 'inventory' y 'totalCurrentLiabilities' en la primera columna\n",
    "total_current_assets = balance_sheet_df[balance_sheet_df.iloc[:, 0] == 'totalCurrentAssets']\n",
    "inventory = balance_sheet_df[balance_sheet_df.iloc[:, 0] == 'inventory']\n",
    "total_current_liabilities = balance_sheet_df[balance_sheet_df.iloc[:, 0] == 'totalCurrentLiabilities']\n",
    "\n",
    "# Asegurarse de que se encontró una única fila para cada uno\n",
    "if total_current_assets.shape[0] != 1 or inventory.shape[0] != 1 or total_current_liabilities.shape[0] != 1:\n",
    "    raise ValueError(\"No se encontraron filas únicas para 'totalCurrentAssets', 'inventory' o 'totalCurrentLiabilities'\")\n",
    "\n",
    "# Obtener los valores excluyendo la primera columna (que contiene el nombre de las filas)\n",
    "total_current_assets_values = total_current_assets.iloc[0, 1:].astype(float)\n",
    "inventory_values = inventory.iloc[0, 1:].astype(float)\n",
    "total_current_liabilities_values = total_current_liabilities.iloc[0, 1:].astype(float)\n",
    "\n",
    "# Calcular la Relación de Prueba Ácida\n",
    "relacion_prueba_acida = (total_current_assets_values - inventory_values) / total_current_liabilities_values\n",
    "\n",
    "# Crear un DataFrame para la fecha y la Relación de Prueba Ácida\n",
    "relacion_prueba_acida_df = pd.DataFrame({\n",
    "    'Fecha': total_current_assets.columns[1:],  # Excluyendo la primera columna\n",
    "    'Relación de Prueba Ácida': relacion_prueba_acida\n",
    "})\n",
    "\n",
    "# Agregar la columna al DataFrame ratios_liquidez_df\n",
    "ratios_liquidez_df['Relación de Prueba Ácida'] = relacion_prueba_acida_df['Relación de Prueba Ácida'].values"
   ]
  },
  {
   "cell_type": "markdown",
   "metadata": {
    "id": "dWop6FY60VBZ"
   },
   "source": [
    "COEFICIENTE DE EFECTIVO"
   ]
  },
  {
   "cell_type": "code",
   "execution_count": 6,
   "metadata": {
    "executionInfo": {
     "elapsed": 4,
     "status": "ok",
     "timestamp": 1737486984773,
     "user": {
      "displayName": "Nicolás Scelza",
      "userId": "07215751523148741848"
     },
     "user_tz": 180
    },
    "id": "u4Xq1WOx0YDS"
   },
   "outputs": [],
   "source": [
    "# Buscar las filas correspondientes a 'cashAndShortTermInvestments' y 'totalCurrentLiabilities' en la primera columna\n",
    "cash_and_short_term_investments = balance_sheet_df[balance_sheet_df.iloc[:, 0] == 'cashAndShortTermInvestments']\n",
    "total_current_liabilities = balance_sheet_df[balance_sheet_df.iloc[:, 0] == 'totalCurrentLiabilities']\n",
    "\n",
    "# Asegurarse de que se encontró una única fila para cada uno\n",
    "if cash_and_short_term_investments.shape[0] != 1 or total_current_liabilities.shape[0] != 1:\n",
    "    raise ValueError(\"No se encontraron filas únicas para 'cashAndShortTermInvestments' o 'totalCurrentLiabilities'\")\n",
    "\n",
    "# Obtener los valores excluyendo la primera columna (que contiene el nombre de las filas)\n",
    "cash_and_short_term_investments_values = cash_and_short_term_investments.iloc[0, 1:].astype(float)\n",
    "total_current_liabilities_values = total_current_liabilities.iloc[0, 1:].astype(float)\n",
    "\n",
    "# Calcular el Coeficiente de Efectivo en porcentaje\n",
    "coeficiente_efectivo = (cash_and_short_term_investments_values / total_current_liabilities_values) * 100\n",
    "\n",
    "# Crear un DataFrame para la fecha y el Coeficiente de Efectivo\n",
    "coeficiente_efectivo_df = pd.DataFrame({\n",
    "    'Fecha': cash_and_short_term_investments.columns[1:],  # Excluyendo la primera columna\n",
    "    'Coeficiente de Efectivo': coeficiente_efectivo\n",
    "})\n",
    "\n",
    "# Convertir los valores a formato de porcentaje\n",
    "coeficiente_efectivo_df['Coeficiente de Efectivo'] = coeficiente_efectivo_df['Coeficiente de Efectivo'].map(\"{:.2f}%\".format)\n",
    "\n",
    "# Agregar la columna al DataFrame ratios_liquidez_df\n",
    "ratios_liquidez_df['Coeficiente de Efectivo'] = coeficiente_efectivo_df['Coeficiente de Efectivo'].values"
   ]
  },
  {
   "cell_type": "markdown",
   "metadata": {
    "id": "nc4c2Ldk1P8Z"
   },
   "source": [
    "RATIO DE FLUJO DE CAJA OPERATIVO"
   ]
  },
  {
   "cell_type": "code",
   "execution_count": 7,
   "metadata": {
    "executionInfo": {
     "elapsed": 438,
     "status": "ok",
     "timestamp": 1737486985207,
     "user": {
      "displayName": "Nicolás Scelza",
      "userId": "07215751523148741848"
     },
     "user_tz": 180
    },
    "id": "XLTq1fKH1T8R"
   },
   "outputs": [],
   "source": [
    "# Buscar las filas correspondientes a 'operatingCashflow' en cash_flow_df y 'totalCurrentLiabilities' en balance_sheet_df\n",
    "operating_cashflow = cash_flow_df[cash_flow_df.iloc[:, 0] == 'operatingCashflow']\n",
    "total_current_liabilities = balance_sheet_df[balance_sheet_df.iloc[:, 0] == 'totalCurrentLiabilities']\n",
    "\n",
    "# Asegurarse de que se encontró una única fila para cada uno\n",
    "if operating_cashflow.shape[0] != 1 or total_current_liabilities.shape[0] != 1:\n",
    "    raise ValueError(\"No se encontraron filas únicas para 'operatingCashflow' o 'totalCurrentLiabilities'\")\n",
    "\n",
    "# Obtener los valores excluyendo la primera columna (que contiene el nombre de las filas)\n",
    "operating_cashflow_values = operating_cashflow.iloc[0, 1:].astype(float)\n",
    "total_current_liabilities_values = total_current_liabilities.iloc[0, 1:].astype(float)\n",
    "\n",
    "# Calcular el Ratio de Flujo de Caja Operativo en porcentaje\n",
    "ratio_flujo_caja_operativo = (operating_cashflow_values / total_current_liabilities_values) * 100\n",
    "\n",
    "# Crear un DataFrame para la fecha y el Ratio de Flujo de Caja Operativo\n",
    "ratio_flujo_caja_operativo_df = pd.DataFrame({\n",
    "    'Fecha': operating_cashflow.columns[1:],  # Excluyendo la primera columna\n",
    "    'Ratio de Flujo de Caja Operativo': ratio_flujo_caja_operativo\n",
    "})\n",
    "\n",
    "# Convertir los valores a formato de porcentaje\n",
    "ratio_flujo_caja_operativo_df['Ratio de Flujo de Caja Operativo'] = ratio_flujo_caja_operativo_df['Ratio de Flujo de Caja Operativo'].map(\"{:.2f}%\".format)\n",
    "\n",
    "# Agregar la columna al DataFrame ratios_liquidez_df\n",
    "ratios_liquidez_df['Ratio de Flujo de Caja Operativo'] = ratio_flujo_caja_operativo_df['Ratio de Flujo de Caja Operativo'].values"
   ]
  },
  {
   "cell_type": "markdown",
   "metadata": {
    "id": "-pblcXr11f3h"
   },
   "source": [
    "***RATIOS DE LIQUIDEZ***"
   ]
  },
  {
   "cell_type": "code",
   "execution_count": null,
   "metadata": {
    "colab": {
     "base_uri": "https://localhost:8080/"
    },
    "executionInfo": {
     "elapsed": 5,
     "status": "ok",
     "timestamp": 1737486985207,
     "user": {
      "displayName": "Nicolás Scelza",
      "userId": "07215751523148741848"
     },
     "user_tz": 180
    },
    "id": "mKi2l3lk1jFJ",
    "outputId": "af1cf375-b8ab-44ac-e995-bd44156c4693"
   },
   "outputs": [],
   "source": [
    "# Mostrar los resultados\n",
    "print(\"DataFrame con Ratios de Liquidez por Año:\")\n",
    "print(ratios_liquidez_df)"
   ]
  },
  {
   "cell_type": "code",
   "execution_count": null,
   "metadata": {
    "colab": {
     "base_uri": "https://localhost:8080/",
     "height": 1000
    },
    "executionInfo": {
     "elapsed": 3163,
     "status": "ok",
     "timestamp": 1737486988367,
     "user": {
      "displayName": "Nicolás Scelza",
      "userId": "07215751523148741848"
     },
     "user_tz": 180
    },
    "id": "F_VPyJ3i1ypp",
    "outputId": "50e1f8cc-082e-49c9-a6bd-cab8486f6456"
   },
   "outputs": [],
   "source": [
    "# Convertir las columnas de porcentaje a valores numéricos, manejando excepciones\n",
    "def convert_percentage(x):\n",
    "    try:\n",
    "        return float(x.strip('%'))\n",
    "    except AttributeError:\n",
    "        return x\n",
    "\n",
    "ratios_liquidez_df = ratios_liquidez_df.applymap(convert_percentage)\n",
    "\n",
    "# Graficar cada columna del DataFrame\n",
    "for column in ratios_liquidez_df.columns:\n",
    "    plt.figure(figsize=(10, 6))\n",
    "    plt.plot(ratios_liquidez_df.index, ratios_liquidez_df[column], marker='o', linestyle='-', color='b')\n",
    "    plt.title(f'{column} por Año')\n",
    "    plt.xlabel('Fecha')\n",
    "    plt.ylabel(column)\n",
    "    plt.xticks(rotation=45)\n",
    "    plt.grid(True)\n",
    "    plt.tight_layout()\n",
    "    plt.show()"
   ]
  },
  {
   "cell_type": "markdown",
   "metadata": {
    "id": "co0ktOCi8Avl"
   },
   "source": [
    "RATIO DE ENDEUDAMIENTO"
   ]
  },
  {
   "cell_type": "code",
   "execution_count": 10,
   "metadata": {
    "executionInfo": {
     "elapsed": 4,
     "status": "ok",
     "timestamp": 1737486988367,
     "user": {
      "displayName": "Nicolás Scelza",
      "userId": "07215751523148741848"
     },
     "user_tz": 180
    },
    "id": "DS44ho4A8ETT"
   },
   "outputs": [],
   "source": [
    "# Buscar las filas correspondientes a 'totalLiabilities' y 'totalAssets' en la primera columna\n",
    "total_liabilities = balance_sheet_df[balance_sheet_df.iloc[:, 0] == 'totalLiabilities']\n",
    "total_assets = balance_sheet_df[balance_sheet_df.iloc[:, 0] == 'totalAssets']\n",
    "\n",
    "# Asegurarse de que se encontró una única fila para cada uno\n",
    "if total_liabilities.shape[0] != 1 or total_assets.shape[0] != 1:\n",
    "    raise ValueError(\"No se encontraron filas únicas para 'totalLiabilities' o 'totalAssets'\")\n",
    "\n",
    "# Obtener los valores excluyendo la primera columna (que contiene el nombre de las filas)\n",
    "total_liabilities_values = total_liabilities.iloc[0, 1:].astype(float)\n",
    "total_assets_values = total_assets.iloc[0, 1:].astype(float)\n",
    "\n",
    "# Calcular el Ratio de Endeudamiento en porcentaje\n",
    "ratio_endeudamiento = (total_liabilities_values / total_assets_values) * 100\n",
    "\n",
    "# Crear un DataFrame para la fecha y el Ratio de Endeudamiento\n",
    "apalancamiento_df = pd.DataFrame({\n",
    "    'Fecha': total_liabilities.columns[1:],  # Excluyendo la primera columna\n",
    "    'Ratio de Endeudamiento': ratio_endeudamiento\n",
    "})\n",
    "\n",
    "# Convertir los valores a formato de porcentaje\n",
    "apalancamiento_df['Ratio de Endeudamiento'] = apalancamiento_df['Ratio de Endeudamiento'].map(\"{:.2f}%\".format)\n",
    "\n",
    "# Establecer la columna de fechas como índice para evitar duplicación\n",
    "apalancamiento_df.set_index('Fecha', inplace=True)"
   ]
  },
  {
   "cell_type": "markdown",
   "metadata": {
    "id": "tAo4Jhy59fLE"
   },
   "source": [
    "RATIO DEUDA/CAPITAL"
   ]
  },
  {
   "cell_type": "code",
   "execution_count": 11,
   "metadata": {
    "executionInfo": {
     "elapsed": 3,
     "status": "ok",
     "timestamp": 1737486988367,
     "user": {
      "displayName": "Nicolás Scelza",
      "userId": "07215751523148741848"
     },
     "user_tz": 180
    },
    "id": "4zYY8vp09egU"
   },
   "outputs": [],
   "source": [
    "# Buscar las filas correspondientes a 'totalLiabilities' y 'totalShareholderEquity' en la primera columna\n",
    "total_liabilities = balance_sheet_df[balance_sheet_df.iloc[:, 0] == 'totalLiabilities']\n",
    "total_shareholder_equity = balance_sheet_df[balance_sheet_df.iloc[:, 0] == 'totalShareholderEquity']\n",
    "\n",
    "# Asegurarse de que se encontró una única fila para cada uno\n",
    "if total_liabilities.shape[0] != 1 or total_shareholder_equity.shape[0] != 1:\n",
    "    raise ValueError(\"No se encontraron filas únicas para 'totalLiabilities' o 'totalShareholderEquity'\")\n",
    "\n",
    "# Obtener los valores excluyendo la primera columna (que contiene el nombre de las filas)\n",
    "total_liabilities_values = total_liabilities.iloc[0, 1:].astype(float)\n",
    "total_shareholder_equity_values = total_shareholder_equity.iloc[0, 1:].astype(float)\n",
    "\n",
    "# Calcular el Ratio de Deuda a Capital\n",
    "ratio_deuda_capital = (total_liabilities_values / total_shareholder_equity_values) * 100\n",
    "\n",
    "# Crear un DataFrame para la fecha y el Ratio de Deuda a Capital\n",
    "ratio_deuda_capital_df = pd.DataFrame({\n",
    "    'Fecha': total_liabilities.columns[1:],  # Excluyendo la primera columna\n",
    "    'Ratio de Deuda a Capital': ratio_deuda_capital\n",
    "})\n",
    "\n",
    "# Convertir la columna 'Fecha' a tipo datetime\n",
    "ratio_deuda_capital_df['Fecha'] = pd.to_datetime(ratio_deuda_capital_df['Fecha'])\n",
    "\n",
    "# Establecer 'Fecha' como índice en ratio_deuda_capital_df\n",
    "ratio_deuda_capital_df.set_index('Fecha', inplace=True)\n",
    "\n",
    "# Si 'Fecha' está en las columnas de apalancamiento_df, eliminarla para evitar duplicaciones\n",
    "if 'Fecha' in apalancamiento_df.columns:\n",
    "    apalancamiento_df.drop(columns=['Fecha'], inplace=True)\n",
    "\n",
    "# Asegurarse de que el índice de apalancamiento_df sea de tipo datetime para la columna 'Fecha'\n",
    "if not pd.api.types.is_datetime64_any_dtype(apalancamiento_df.index):\n",
    "    apalancamiento_df.index = pd.to_datetime(apalancamiento_df.index)\n",
    "\n",
    "# Agregar la columna al DataFrame apalancamiento_df\n",
    "apalancamiento_df['Ratio de Deuda a Capital'] = ratio_deuda_capital_df['Ratio de Deuda a Capital']"
   ]
  },
  {
   "cell_type": "markdown",
   "metadata": {
    "id": "avfxrsq8CNS0"
   },
   "source": [
    "RATIO EBIT/INTERESES"
   ]
  },
  {
   "cell_type": "code",
   "execution_count": 12,
   "metadata": {
    "executionInfo": {
     "elapsed": 3,
     "status": "ok",
     "timestamp": 1737486988367,
     "user": {
      "displayName": "Nicolás Scelza",
      "userId": "07215751523148741848"
     },
     "user_tz": 180
    },
    "id": "u2D_YpVECYOA"
   },
   "outputs": [],
   "source": [
    "# Buscar las filas correspondientes a 'ebit' y 'interestExpense' en la primera columna\n",
    "ebit = income_statement_df[income_statement_df.iloc[:, 0] == 'ebit']\n",
    "interest_expense = income_statement_df[income_statement_df.iloc[:, 0] == 'interestExpense']\n",
    "\n",
    "# Asegurarse de que se encontró una única fila para cada uno\n",
    "if ebit.shape[0] != 1 or interest_expense.shape[0] != 1:\n",
    "    raise ValueError(\"No se encontraron filas únicas para 'ebit' o 'interestExpense'\")\n",
    "\n",
    "# Obtener los valores excluyendo la primera columna (que contiene el nombre de las filas)\n",
    "ebit_values = ebit.iloc[0, 1:].astype(float).values\n",
    "interest_expense_values = interest_expense.iloc[0, 1:].astype(float).values\n",
    "\n",
    "# Calcular el RATIO EBIT/INTERESES\n",
    "ratio_ebit_intereses = ebit_values / interest_expense_values\n",
    "\n",
    "# Crear un DataFrame para la fecha y el RATIO EBIT/INTERESES\n",
    "ratio_ebit_intereses_df = pd.DataFrame({\n",
    "    'Fecha': ebit.columns[1:],  # Excluyendo la primera columna\n",
    "    'RATIO EBIT/INTERESES': ratio_ebit_intereses\n",
    "})\n",
    "\n",
    "# Convertir la columna 'Fecha' a tipo datetime\n",
    "ratio_ebit_intereses_df['Fecha'] = pd.to_datetime(ratio_ebit_intereses_df['Fecha'])\n",
    "\n",
    "# Establecer 'Fecha' como índice en ratio_ebit_intereses_df\n",
    "ratio_ebit_intereses_df.set_index('Fecha', inplace=True)\n",
    "\n",
    "# Si 'Fecha' está en las columnas de apalancamiento_df, eliminarla para evitar duplicaciones\n",
    "if 'Fecha' in apalancamiento_df.columns:\n",
    "    apalancamiento_df.drop(columns=['Fecha'], inplace=True)\n",
    "\n",
    "# Asegurarse de que el índice de apalancamiento_df sea de tipo datetime para la columna 'Fecha'\n",
    "if not pd.api.types.is_datetime64_any_dtype(apalancamiento_df.index):\n",
    "    apalancamiento_df.index = pd.to_datetime(apalancamiento_df.index)\n",
    "\n",
    "# Agregar la columna al DataFrame apalancamiento_df\n",
    "apalancamiento_df['RATIO EBIT/INTERESES'] = ratio_ebit_intereses_df['RATIO EBIT/INTERESES']"
   ]
  },
  {
   "cell_type": "markdown",
   "metadata": {
    "id": "hEwFiaTjKlpu"
   },
   "source": [
    "***RATIOS DE APALANCAMIENTO***"
   ]
  },
  {
   "cell_type": "code",
   "execution_count": null,
   "metadata": {
    "colab": {
     "base_uri": "https://localhost:8080/"
    },
    "executionInfo": {
     "elapsed": 3,
     "status": "ok",
     "timestamp": 1737486988367,
     "user": {
      "displayName": "Nicolás Scelza",
      "userId": "07215751523148741848"
     },
     "user_tz": 180
    },
    "id": "3OXjW3iyKn1Q",
    "outputId": "2c2c0955-03a5-4f75-eb45-126a8811126c"
   },
   "outputs": [],
   "source": [
    "print(\"DataFrame con Ratios de Apalancamiento por Año:\")\n",
    "print(apalancamiento_df)"
   ]
  },
  {
   "cell_type": "code",
   "execution_count": null,
   "metadata": {
    "colab": {
     "base_uri": "https://localhost:8080/",
     "height": 1000
    },
    "executionInfo": {
     "elapsed": 1497,
     "status": "ok",
     "timestamp": 1737486989862,
     "user": {
      "displayName": "Nicolás Scelza",
      "userId": "07215751523148741848"
     },
     "user_tz": 180
    },
    "id": "cPEjhhBFKq8m",
    "outputId": "e8ccc4ac-b19e-4ca9-ed54-a8db0bc126f4"
   },
   "outputs": [],
   "source": [
    "# Verificar si 'Fecha' está en las columnas de apalancamiento_df\n",
    "if 'Fecha' in apalancamiento_df.columns:\n",
    "    # Convertir la columna 'Fecha' a tipo datetime si no lo está\n",
    "    apalancamiento_df['Fecha'] = pd.to_datetime(apalancamiento_df['Fecha'])\n",
    "    # Establecer 'Fecha' como índice\n",
    "    apalancamiento_df.set_index('Fecha', inplace=True)\n",
    "\n",
    "# Convertir las columnas de porcentaje a float para ordenarlas correctamente, si no están ya en float\n",
    "if apalancamiento_df['Ratio de Endeudamiento'].dtype == 'object':\n",
    "    apalancamiento_df['Ratio de Endeudamiento'] = apalancamiento_df['Ratio de Endeudamiento'].str.rstrip('%').astype('float') / 100\n",
    "if apalancamiento_df['Ratio de Deuda a Capital'].dtype == 'object':\n",
    "    apalancamiento_df['Ratio de Deuda a Capital'] = apalancamiento_df['Ratio de Deuda a Capital'].str.rstrip('%').astype('float') / 100\n",
    "\n",
    "# Crear gráficos para cada ratio en el DataFrame apalancamiento_df\n",
    "fig, axs = plt.subplots(len(apalancamiento_df.columns), 1, figsize=(10, 15))\n",
    "\n",
    "for i, column in enumerate(apalancamiento_df.columns):\n",
    "    axs[i].plot(apalancamiento_df.index, apalancamiento_df[column], marker='o')\n",
    "    axs[i].set_title(column)\n",
    "    axs[i].set_xlabel('Fecha')\n",
    "    axs[i].set_ylabel(column)\n",
    "    axs[i].grid(True)\n",
    "\n",
    "plt.tight_layout()\n",
    "plt.show()"
   ]
  },
  {
   "cell_type": "markdown",
   "metadata": {
    "id": "o4bD-vsrVj4C"
   },
   "source": [
    "MARGEN BRUTO"
   ]
  },
  {
   "cell_type": "code",
   "execution_count": 15,
   "metadata": {
    "executionInfo": {
     "elapsed": 5,
     "status": "ok",
     "timestamp": 1737486989863,
     "user": {
      "displayName": "Nicolás Scelza",
      "userId": "07215751523148741848"
     },
     "user_tz": 180
    },
    "id": "tcPTI15EV4OA"
   },
   "outputs": [],
   "source": [
    "# Buscar las filas correspondientes a 'grossProfit' y 'totalRevenue' en la primera columna\n",
    "gross_profit = income_statement_df[income_statement_df.iloc[:, 0] == 'grossProfit']\n",
    "total_revenue = income_statement_df[income_statement_df.iloc[:, 0] == 'totalRevenue']\n",
    "\n",
    "# Asegurarse de que se encontró una única fila para cada uno\n",
    "if gross_profit.shape[0] != 1 or total_revenue.shape[0] != 1:\n",
    "    raise ValueError(\"No se encontraron filas únicas para 'grossProfit' o 'totalRevenue'\")\n",
    "\n",
    "# Convertir las columnas a tipo float excluyendo la primera columna (que contiene el nombre de las filas)\n",
    "gross_profit_values = gross_profit.iloc[0, 1:].astype(float).values\n",
    "total_revenue_values = total_revenue.iloc[0, 1:].astype(float).values\n",
    "\n",
    "# Calcular el Ratio de Margen Bruto\n",
    "ratio_margen_bruto = (gross_profit_values / total_revenue_values) * 100\n",
    "\n",
    "# Crear un DataFrame para la fecha y el Ratio de Margen Bruto\n",
    "ratio_margen_bruto_df = pd.DataFrame({\n",
    "    'Fecha': gross_profit.columns[1:],  # Excluyendo la primera columna\n",
    "    'Ratio de Margen Bruto': ratio_margen_bruto\n",
    "})\n",
    "\n",
    "# Convertir la columna 'Fecha' a tipo datetime\n",
    "ratio_margen_bruto_df['Fecha'] = pd.to_datetime(ratio_margen_bruto_df['Fecha'])\n",
    "\n",
    "# Establecer 'Fecha' como índice en ratio_margen_bruto_df\n",
    "ratio_margen_bruto_df.set_index('Fecha', inplace=True)\n",
    "\n",
    "# Crear el DataFrame rentabilidad_df\n",
    "rentabilidad_df = ratio_margen_bruto_df.copy()\n",
    "\n",
    "# Convertir los valores de 'Ratio de Margen Bruto' a float sin el formato de porcentaje\n",
    "rentabilidad_df['Ratio de Margen Bruto'] = rentabilidad_df['Ratio de Margen Bruto'].astype(float)"
   ]
  },
  {
   "cell_type": "markdown",
   "metadata": {
    "id": "rBJSezm5WVvD"
   },
   "source": [
    "MARGEN OPERATIVO"
   ]
  },
  {
   "cell_type": "code",
   "execution_count": 16,
   "metadata": {
    "executionInfo": {
     "elapsed": 5,
     "status": "ok",
     "timestamp": 1737486989863,
     "user": {
      "displayName": "Nicolás Scelza",
      "userId": "07215751523148741848"
     },
     "user_tz": 180
    },
    "id": "EOu8UZPmWgrJ"
   },
   "outputs": [],
   "source": [
    "# Buscar las filas correspondientes a 'operatingIncome' y 'totalRevenue' en la primera columna\n",
    "operating_income = income_statement_df[income_statement_df.iloc[:, 0] == 'operatingIncome']\n",
    "total_revenue = income_statement_df[income_statement_df.iloc[:, 0] == 'totalRevenue']\n",
    "\n",
    "# Asegurarse de que se encontró una única fila para cada uno\n",
    "if operating_income.shape[0] != 1 or total_revenue.shape[0] != 1:\n",
    "    raise ValueError(\"No se encontraron filas únicas para 'operatingIncome' o 'totalRevenue'\")\n",
    "\n",
    "# Convertir las columnas a tipo float excluyendo la primera columna (que contiene el nombre de las filas)\n",
    "operating_income_values = operating_income.iloc[0, 1:].astype(float).values\n",
    "total_revenue_values = total_revenue.iloc[0, 1:].astype(float).values\n",
    "\n",
    "# Calcular el Ratio de Margen Operativo\n",
    "ratio_margen_operativo = (operating_income_values / total_revenue_values) * 100\n",
    "\n",
    "# Crear un DataFrame para la fecha y el Ratio de Margen Operativo\n",
    "ratio_margen_operativo_df = pd.DataFrame({\n",
    "    'Fecha': operating_income.columns[1:],  # Excluyendo la primera columna\n",
    "    'Ratio de Margen Operativo': ratio_margen_operativo\n",
    "})\n",
    "\n",
    "# Convertir la columna 'Fecha' a tipo datetime\n",
    "ratio_margen_operativo_df['Fecha'] = pd.to_datetime(ratio_margen_operativo_df['Fecha'])\n",
    "\n",
    "# Establecer 'Fecha' como índice en ratio_margen_operativo_df\n",
    "ratio_margen_operativo_df.set_index('Fecha', inplace=True)\n",
    "\n",
    "# Agregar esta columna a rentabilidad_df\n",
    "if 'rentabilidad_df' in globals():\n",
    "    rentabilidad_df = rentabilidad_df.drop(columns=['Ratio de Margen Operativo'], errors='ignore')\n",
    "    rentabilidad_df = rentabilidad_df.join(ratio_margen_operativo_df, how='outer')\n",
    "else:\n",
    "    rentabilidad_df = ratio_margen_operativo_df.copy()"
   ]
  },
  {
   "cell_type": "markdown",
   "metadata": {
    "id": "VqT5fQZcWrtx"
   },
   "source": [
    "ROA"
   ]
  },
  {
   "cell_type": "code",
   "execution_count": 17,
   "metadata": {
    "executionInfo": {
     "elapsed": 5,
     "status": "ok",
     "timestamp": 1737486989863,
     "user": {
      "displayName": "Nicolás Scelza",
      "userId": "07215751523148741848"
     },
     "user_tz": 180
    },
    "id": "wnui8pUGWtXg"
   },
   "outputs": [],
   "source": [
    "# Buscar las filas correspondientes a 'totalRevenue' en income_statement_df y 'totalAssets' en balance_sheet_df\n",
    "total_revenue = income_statement_df[income_statement_df.iloc[:, 0] == 'totalRevenue']\n",
    "total_assets = balance_sheet_df[balance_sheet_df.iloc[:, 0] == 'totalAssets']\n",
    "\n",
    "# Asegurarse de que se encontró una única fila para cada uno\n",
    "if total_revenue.shape[0] != 1 or total_assets.shape[0] != 1:\n",
    "    raise ValueError(\"No se encontraron filas únicas para 'totalRevenue' o 'totalAssets'\")\n",
    "\n",
    "# Convertir las columnas a tipo float excluyendo la primera columna (que contiene el nombre de las filas)\n",
    "total_revenue_values = total_revenue.iloc[0, 1:].astype(float).values\n",
    "total_assets_values = total_assets.iloc[0, 1:].astype(float).values\n",
    "\n",
    "# Calcular el Ratio de Rentabilidad de los Activos (ROA)\n",
    "ratio_rentabilidad_activos = (total_revenue_values / total_assets_values) * 100\n",
    "\n",
    "# Crear un DataFrame para la fecha y el Ratio de Rentabilidad de los Activos (ROA)\n",
    "ratio_rentabilidad_activos_df = pd.DataFrame({\n",
    "    'Fecha': total_revenue.columns[1:],  # Excluyendo la primera columna\n",
    "    'ROA': ratio_rentabilidad_activos\n",
    "})\n",
    "\n",
    "# Convertir la columna 'Fecha' a tipo datetime\n",
    "ratio_rentabilidad_activos_df['Fecha'] = pd.to_datetime(ratio_rentabilidad_activos_df['Fecha'])\n",
    "\n",
    "# Establecer 'Fecha' como índice en ratio_rentabilidad_activos_df\n",
    "ratio_rentabilidad_activos_df.set_index('Fecha', inplace=True)\n",
    "\n",
    "# Agregar esta columna a rentabilidad_df\n",
    "if 'rentabilidad_df' in globals():\n",
    "    rentabilidad_df = rentabilidad_df.drop(columns=['ROA'], errors='ignore')\n",
    "    rentabilidad_df = rentabilidad_df.join(ratio_rentabilidad_activos_df, how='outer')\n",
    "else:\n",
    "    rentabilidad_df = ratio_rentabilidad_activos_df.copy()"
   ]
  },
  {
   "cell_type": "markdown",
   "metadata": {
    "id": "q2kbvgCMXmxj"
   },
   "source": [
    "ROE"
   ]
  },
  {
   "cell_type": "code",
   "execution_count": 18,
   "metadata": {
    "executionInfo": {
     "elapsed": 5,
     "status": "ok",
     "timestamp": 1737486989863,
     "user": {
      "displayName": "Nicolás Scelza",
      "userId": "07215751523148741848"
     },
     "user_tz": 180
    },
    "id": "niTwqXOIXnSZ"
   },
   "outputs": [],
   "source": [
    "# Buscar las filas correspondientes a 'netIncome' en income_statement_df y 'totalShareholderEquity' en balance_sheet_df\n",
    "net_income = income_statement_df[income_statement_df.iloc[:, 0] == 'netIncome']\n",
    "total_shareholder_equity = balance_sheet_df[balance_sheet_df.iloc[:, 0] == 'totalShareholderEquity']\n",
    "\n",
    "# Asegurarse de que se encontró al menos una fila para cada uno\n",
    "if net_income.shape[0] == 0 or total_shareholder_equity.shape[0] == 0:\n",
    "    raise ValueError(\"No se encontraron filas para 'netIncome' o 'totalShareholderEquity'\")\n",
    "\n",
    "# Convertir las columnas a tipo float excluyendo la primera columna (que contiene el nombre de las filas)\n",
    "net_income_values = net_income.iloc[0, 1:].astype(float).values\n",
    "total_shareholder_equity_values = total_shareholder_equity.iloc[0, 1:].astype(float).values\n",
    "\n",
    "# Calcular el Ratio de Rentabilidad sobre Fondos Propios (ROE)\n",
    "ratio_rentabilidad_fondos_propios = (net_income_values / total_shareholder_equity_values) * 100\n",
    "\n",
    "# Crear un DataFrame para la fecha y el Ratio de Rentabilidad sobre Fondos Propios (ROE)\n",
    "ratio_rentabilidad_fondos_propios_df = pd.DataFrame({\n",
    "    'Fecha': net_income.columns[1:],  # Excluyendo la primera columna\n",
    "    'ROE': ratio_rentabilidad_fondos_propios\n",
    "})\n",
    "\n",
    "# Convertir la columna 'Fecha' a tipo datetime\n",
    "ratio_rentabilidad_fondos_propios_df['Fecha'] = pd.to_datetime(ratio_rentabilidad_fondos_propios_df['Fecha'])\n",
    "\n",
    "# Establecer 'Fecha' como índice en ratio_rentabilidad_fondos_propios_df\n",
    "ratio_rentabilidad_fondos_propios_df.set_index('Fecha', inplace=True)\n",
    "\n",
    "# Agregar esta columna a rentabilidad_df\n",
    "if 'rentabilidad_df' in globals():\n",
    "    rentabilidad_df = rentabilidad_df.drop(columns=['ROE'], errors='ignore')\n",
    "    rentabilidad_df = rentabilidad_df.join(ratio_rentabilidad_fondos_propios_df, how='outer')\n",
    "else:\n",
    "    rentabilidad_df = ratio_rentabilidad_fondos_propios_df.copy()"
   ]
  },
  {
   "cell_type": "markdown",
   "metadata": {
    "id": "Hb-cUjlkmvoD"
   },
   "source": [
    "P/B RATIO"
   ]
  },
  {
   "cell_type": "code",
   "execution_count": 19,
   "metadata": {
    "executionInfo": {
     "elapsed": 5,
     "status": "ok",
     "timestamp": 1737486989863,
     "user": {
      "displayName": "Nicolás Scelza",
      "userId": "07215751523148741848"
     },
     "user_tz": 180
    },
    "id": "pvHvDvo_mx5D"
   },
   "outputs": [],
   "source": [
    "# Renombrar la columna sin nombre en prices_df a 'date'\n",
    "prices_df.rename(columns={'Unnamed: 0': 'date', 'Close': 'price'}, inplace=True)\n",
    "prices_df['date'] = pd.to_datetime(prices_df['date'])\n",
    "\n",
    "# Convertir la columna 'fiscalDateEnding' a tipo datetime en balance_sheet_df y transponer\n",
    "balance_sheet_df = balance_sheet_df.set_index('fiscalDateEnding').T\n",
    "balance_sheet_df.index = pd.to_datetime(balance_sheet_df.index)\n",
    "\n",
    "# Calcular el valor contable por acción\n",
    "balance_sheet_df['book_value_per_share'] = (\n",
    "    balance_sheet_df['totalShareholderEquity'] / balance_sheet_df['commonStockSharesOutstanding']\n",
    ")\n",
    "\n",
    "# Función para encontrar el precio más cercano a una fecha dada\n",
    "def find_closest_price(date, prices_df):\n",
    "    # Calcular la diferencia absoluta de fechas y encontrar la más cercana\n",
    "    closest_row = prices_df.loc[(prices_df['date'] - date).abs().idxmin()]\n",
    "    return closest_row['price']\n",
    "\n",
    "# Aplicar la función para encontrar el precio más cercano para cada fecha en balance_sheet_df\n",
    "balance_sheet_df['closest_price'] = balance_sheet_df.index.to_series().apply(\n",
    "    lambda x: find_closest_price(x, prices_df)\n",
    ")\n",
    "\n",
    "# Calcular el P/B Ratio\n",
    "balance_sheet_df['P/B Ratio'] = balance_sheet_df['closest_price'] / balance_sheet_df['book_value_per_share']\n",
    "\n",
    "# Asegurarse de que las columnas que queremos añadir no existen en rentabilidad_df\n",
    "rentabilidad_df['P/B Ratio'] = balance_sheet_df['P/B Ratio']"
   ]
  },
  {
   "cell_type": "markdown",
   "metadata": {
    "id": "RxSuTLVhm1pN"
   },
   "source": [
    "RENTABILIDAD POR DIVIDENDO"
   ]
  },
  {
   "cell_type": "code",
   "execution_count": null,
   "metadata": {
    "colab": {
     "base_uri": "https://localhost:8080/"
    },
    "executionInfo": {
     "elapsed": 4,
     "status": "ok",
     "timestamp": 1737486989863,
     "user": {
      "displayName": "Nicolás Scelza",
      "userId": "07215751523148741848"
     },
     "user_tz": 180
    },
    "id": "mOCqQjLrm2QT",
    "outputId": "0418a8c9-8e8d-4285-c711-1d02614145fa"
   },
   "outputs": [],
   "source": [
    "# Renombrar la columna sin nombre en prices_df a 'date'\n",
    "prices_df.rename(columns={'Unnamed: 0': 'date', 'Close': 'price'}, inplace=True)\n",
    "prices_df['date'] = pd.to_datetime(prices_df['date'])\n",
    "\n",
    "# Convertir la columna 'fiscalDateEnding' a tipo datetime en balance_sheet_df\n",
    "balance_sheet_df.index = pd.to_datetime(balance_sheet_df.index, errors='coerce')\n",
    "\n",
    "# Convertir las columnas a tipo datetime en cash_flow_df\n",
    "cash_flow_df.columns = pd.to_datetime(cash_flow_df.columns, errors='coerce')\n",
    "cash_flow_df.set_index(cash_flow_df.iloc[:, 0], inplace=True)\n",
    "cash_flow_df.drop(cash_flow_df.columns[0], axis=1, inplace=True)\n",
    "\n",
    "# Calcular el dividendo por acción\n",
    "dividendos_por_accion = (\n",
    "    cash_flow_df.loc['dividendPayoutCommonStock'].astype(float) /\n",
    "    balance_sheet_df['commonStockSharesOutstanding'].astype(float)\n",
    ")\n",
    "\n",
    "# Función para encontrar el precio más cercano a una fecha dada\n",
    "def find_closest_price(date, prices_df):\n",
    "    closest_row = prices_df.loc[(prices_df['date'] - date).abs().idxmin()]\n",
    "    return closest_row['price']\n",
    "\n",
    "# Aplicar la función para encontrar el precio más cercano para cada fecha en balance_sheet_df\n",
    "closest_prices = balance_sheet_df.index.to_series().apply(lambda x: find_closest_price(x, prices_df))\n",
    "\n",
    "# Calcular el ratio dividendo/precio\n",
    "rendimiento_por_dividendo = dividendos_por_accion / closest_prices.values\n",
    "\n",
    "# Añadir las nuevas columnas a rentabilidad_df\n",
    "rentabilidad_df['Dividendos por Acción'] = dividendos_por_accion.values\n",
    "rentabilidad_df['Rendimiento por Dividendos'] = rendimiento_por_dividendo.values"
   ]
  },
  {
   "cell_type": "markdown",
   "metadata": {
    "id": "X7YM8gxIpbT2"
   },
   "source": [
    "EPS"
   ]
  },
  {
   "cell_type": "code",
   "execution_count": 21,
   "metadata": {
    "executionInfo": {
     "elapsed": 3,
     "status": "ok",
     "timestamp": 1737486989863,
     "user": {
      "displayName": "Nicolás Scelza",
      "userId": "07215751523148741848"
     },
     "user_tz": 180
    },
    "id": "glg7GYYspb2f"
   },
   "outputs": [],
   "source": [
    "# Convertir las columnas a tipo datetime en cash_flow_df y balance_sheet_df\n",
    "cash_flow_df.columns = pd.to_datetime(cash_flow_df.columns, errors='coerce')\n",
    "balance_sheet_df.index = pd.to_datetime(balance_sheet_df.index, errors='coerce')\n",
    "\n",
    "# Extraer netIncome de cash_flow_df\n",
    "net_income = cash_flow_df.loc['netIncome'].astype(float)\n",
    "\n",
    "# Calcular las ganancias por acción\n",
    "earnings_per_share = net_income / balance_sheet_df['commonStockSharesOutstanding'].astype(float)\n",
    "\n",
    "# Añadir las ganancias por acción a rentabilidad_df, asegurándose de que solo haya una columna llamada EPS\n",
    "rentabilidad_df['EPS'] = earnings_per_share.values\n",
    "\n",
    "# Eliminar la columna 'earnings_per_share' si existe\n",
    "if 'earnings_per_share' in rentabilidad_df.columns:\n",
    "    rentabilidad_df.drop(columns=['earnings_per_share'], inplace=True)"
   ]
  },
  {
   "cell_type": "markdown",
   "metadata": {
    "id": "c_FUPqNv4EBK"
   },
   "source": [
    "P/E RATIO"
   ]
  },
  {
   "cell_type": "code",
   "execution_count": 22,
   "metadata": {
    "executionInfo": {
     "elapsed": 5,
     "status": "ok",
     "timestamp": 1737486990487,
     "user": {
      "displayName": "Nicolás Scelza",
      "userId": "07215751523148741848"
     },
     "user_tz": 180
    },
    "id": "OC6cSAvn4L6w"
   },
   "outputs": [],
   "source": [
    "# Renombrar la columna sin nombre en prices_df a 'date'\n",
    "prices_df.rename(columns={'Unnamed: 0': 'date', 'Close': 'price'}, inplace=True)\n",
    "prices_df['date'] = pd.to_datetime(prices_df['date'])\n",
    "\n",
    "# Convertir la columna 'fiscalDateEnding' a tipo datetime en rentabilidad_df\n",
    "rentabilidad_df.index = pd.to_datetime(rentabilidad_df.index, errors='coerce')\n",
    "\n",
    "# Función para encontrar el precio más cercano a una fecha dada\n",
    "def find_closest_price(date, prices_df):\n",
    "    closest_date = prices_df.iloc[(prices_df['date'] - date).abs().argsort()[:1]]['date'].values[0]\n",
    "    closest_price = prices_df[prices_df['date'] == closest_date]['price'].values[0]\n",
    "    return closest_price\n",
    "\n",
    "# Aplicar la función para encontrar el precio más cercano para cada fecha en rentabilidad_df\n",
    "rentabilidad_df['closest_price'] = rentabilidad_df.index.to_series().apply(lambda x: find_closest_price(x, prices_df))\n",
    "\n",
    "# Calcular el P/E Ratio\n",
    "rentabilidad_df['P/E Ratio'] = rentabilidad_df['closest_price'] / rentabilidad_df['EPS']\n",
    "\n",
    "# Eliminar la columna 'closest_price'\n",
    "rentabilidad_df.drop(columns=['closest_price'], inplace=True)"
   ]
  },
  {
   "cell_type": "markdown",
   "metadata": {
    "id": "WCLsS23nZOGy"
   },
   "source": [
    "***RATIOS DE RENTABILIDAD Y PRECIO***"
   ]
  },
  {
   "cell_type": "code",
   "execution_count": null,
   "metadata": {
    "colab": {
     "base_uri": "https://localhost:8080/"
    },
    "executionInfo": {
     "elapsed": 5,
     "status": "ok",
     "timestamp": 1737486990488,
     "user": {
      "displayName": "Nicolás Scelza",
      "userId": "07215751523148741848"
     },
     "user_tz": 180
    },
    "id": "pFZGV9arZRYB",
    "outputId": "ddf74a8c-1787-4e7f-b80f-3b6e02f9303a"
   },
   "outputs": [],
   "source": [
    "print(\"DataFrame con el Ratio de Rentabilidad sobre Fondos Propios por Año:\")\n",
    "print(rentabilidad_df)"
   ]
  },
  {
   "cell_type": "code",
   "execution_count": null,
   "metadata": {
    "colab": {
     "base_uri": "https://localhost:8080/",
     "height": 1000
    },
    "executionInfo": {
     "elapsed": 2682,
     "status": "ok",
     "timestamp": 1737486993165,
     "user": {
      "displayName": "Nicolás Scelza",
      "userId": "07215751523148741848"
     },
     "user_tz": 180
    },
    "id": "MWT9QjqlZZVp",
    "outputId": "e669555d-461e-46c5-f150-8883473449fa"
   },
   "outputs": [],
   "source": [
    "# Asegúrate de que rentabilidad_df tiene el índice de tipo datetime\n",
    "rentabilidad_df.index = pd.to_datetime(rentabilidad_df.index)\n",
    "\n",
    "# Ordenar el DataFrame por fechas\n",
    "rentabilidad_df = rentabilidad_df.sort_index()\n",
    "\n",
    "# Función para graficar cada columna con eje Y comenzando en 0\n",
    "def graficar_columna(df, columna):\n",
    "    plt.figure(figsize=(10, 6))\n",
    "    plt.plot(df.index, df[columna], marker='o')\n",
    "    plt.title(f'Gráfico de {columna}')\n",
    "    plt.xlabel('Fecha')\n",
    "    plt.ylabel(columna)\n",
    "    plt.ylim(bottom=0)  # Establecer el límite inferior del eje Y a 0\n",
    "    plt.grid(True)\n",
    "    plt.show()\n",
    "\n",
    "# Graficar cada columna del DataFrame\n",
    "for columna in rentabilidad_df.columns:\n",
    "    graficar_columna(rentabilidad_df, columna)"
   ]
  },
  {
   "cell_type": "markdown",
   "metadata": {
    "id": "jJVcOsr3O6Y5"
   },
   "source": [
    "***GRÁFICO DE PRECIOS***"
   ]
  },
  {
   "cell_type": "code",
   "execution_count": null,
   "metadata": {
    "colab": {
     "base_uri": "https://localhost:8080/",
     "height": 564
    },
    "executionInfo": {
     "elapsed": 826,
     "status": "ok",
     "timestamp": 1737486993988,
     "user": {
      "displayName": "Nicolás Scelza",
      "userId": "07215751523148741848"
     },
     "user_tz": 180
    },
    "id": "z495-0RpO-mJ",
    "outputId": "017e4688-a83e-4c8c-9918-9217dc017908"
   },
   "outputs": [],
   "source": [
    "# Asegúrate de que la columna 'date' esté en formato datetime\n",
    "prices_df['date'] = pd.to_datetime(prices_df['date'])\n",
    "\n",
    "# Establecer 'date' como índice\n",
    "prices_df.set_index('date', inplace=True)\n",
    "\n",
    "# Ordenar el DataFrame por fechas\n",
    "prices_df = prices_df.sort_index()\n",
    "\n",
    "# Graficar el DataFrame sin puntos, solo líneas\n",
    "plt.figure(figsize=(12, 6))\n",
    "plt.plot(prices_df.index, prices_df['price'])\n",
    "plt.title('Gráfico de Precios')\n",
    "plt.xlabel('Fecha')\n",
    "plt.ylabel('Precio')\n",
    "plt.ylim(bottom=0)  # Establecer el límite inferior del eje Y a 0\n",
    "plt.grid(True)\n",
    "plt.show()"
   ]
  }
 ],
 "metadata": {
  "colab": {
   "authorship_tag": "ABX9TyPQSL8i9G27zzuqT3O6ZHUM",
   "provenance": []
  },
  "kernelspec": {
   "display_name": "Python 3",
   "name": "python3"
  },
  "language_info": {
   "codemirror_mode": {
    "name": "ipython",
    "version": 3
   },
   "file_extension": ".py",
   "mimetype": "text/x-python",
   "name": "python",
   "nbconvert_exporter": "python",
   "pygments_lexer": "ipython3",
   "version": "3.13.1"
  }
 },
 "nbformat": 4,
 "nbformat_minor": 0
}
