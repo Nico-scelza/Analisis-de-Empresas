{
  "nbformat": 4,
  "nbformat_minor": 0,
  "metadata": {
    "colab": {
      "provenance": [],
      "authorship_tag": "ABX9TyO++JhlZjJPdmE7jWOVIHXB"
    },
    "kernelspec": {
      "name": "python3",
      "display_name": "Python 3"
    },
    "language_info": {
      "name": "python"
    }
  },
  "cells": [
    {
      "cell_type": "code",
      "execution_count": null,
      "metadata": {
        "id": "UCrC-oiNe6j4"
      },
      "outputs": [],
      "source": [
        "import pandas as pd\n",
        "import os\n",
        "import matplotlib.pyplot as plt\n",
        "import requests\n",
        "from tabulate import tabulate"
      ]
    },
    {
      "cell_type": "markdown",
      "source": [
        "INPUT SYMBOL"
      ],
      "metadata": {
        "id": "7rN_V0MugUal"
      }
    },
    {
      "cell_type": "code",
      "source": [
        "symbol = input(\"Inserte el ticker de la empresa: \").upper()"
      ],
      "metadata": {
        "id": "iBLOQjAtgVVL"
      },
      "execution_count": null,
      "outputs": []
    },
    {
      "cell_type": "markdown",
      "source": [
        "DESCARGA Y ORDENAMIENTO DE DATOS"
      ],
      "metadata": {
        "id": "GncJZUtggJPM"
      }
    },
    {
      "cell_type": "code",
      "source": [
        "api_key = input(\"Inserte su API Key de Alpha Vantage: \")\n",
        "\n",
        "INCOME_STATEMENT = f'https://www.alphavantage.co/query?function=INCOME_STATEMENT&symbol={symbol}&apikey={api_key}'\n",
        "CASH_FLOW = f'https://www.alphavantage.co/query?function=CASH_FLOW&symbol={symbol}&apikey={api_key}'\n",
        "BALANCE_SHEET = f'https://www.alphavantage.co/query?function=BALANCE_SHEET&symbol={symbol}&apikey={api_key}'\n",
        "PRICES = f'https://www.alphavantage.co/query?function=TIME_SERIES_DAILY&symbol={symbol}&outputsize=full&apikey={api_key}'\n",
        "\n",
        "# Descargar los datos\n",
        "r_INCOME_STATEMENT = requests.get(INCOME_STATEMENT)\n",
        "data_INCOME_STATEMENT = r_INCOME_STATEMENT.json()\n",
        "\n",
        "r_CASH_FLOW = requests.get(CASH_FLOW)\n",
        "data_CASH_FLOW = r_CASH_FLOW.json()\n",
        "\n",
        "r_BALANCE_SHEET = requests.get(BALANCE_SHEET)\n",
        "data_BALANCE_SHEET = r_BALANCE_SHEET.json()\n",
        "\n",
        "r_PRICES = requests.get(PRICES)\n",
        "data_PRICES = r_PRICES.json()"
      ],
      "metadata": {
        "id": "KemjS0OcgKst"
      },
      "execution_count": null,
      "outputs": []
    },
    {
      "cell_type": "code",
      "source": [
        "# Convertir los reportes a formato \"tipo Excel\" esperado por el resto del código\n",
        "def json_to_excel_format(df, key='fiscalDateEnding'):\n",
        "    df = df.copy()\n",
        "    df[key] = pd.to_datetime(df[key])\n",
        "    df = df.sort_values(key)\n",
        "    df.set_index(key, inplace=True)\n",
        "    df_T = df.transpose()\n",
        "    # Opcional: dejar la fecha como string para igualar formato Excel\n",
        "    df_T.columns = df_T.columns.strftime('%Y-%m-%d')\n",
        "    # Primer columna (nombre del concepto) con el mismo formato que tus excels\n",
        "    df_T.insert(0, df_T.index.name or 'Concepto', df_T.index)\n",
        "    df_T.reset_index(drop=True, inplace=True)\n",
        "    return df_T\n",
        "\n",
        "# Income statement\n",
        "if 'annualReports' in data_INCOME_STATEMENT:\n",
        "    income_statement_df = pd.DataFrame(data_INCOME_STATEMENT['annualReports'])\n",
        "    income_statement_df = json_to_excel_format(income_statement_df)\n",
        "else:\n",
        "    raise ValueError(\"No se encontraron datos de INCOME_STATEMENT para el símbolo dado.\")\n",
        "\n",
        "# Cash flow\n",
        "if 'annualReports' in data_CASH_FLOW:\n",
        "    cash_flow_df = pd.DataFrame(data_CASH_FLOW['annualReports'])\n",
        "    cash_flow_df = json_to_excel_format(cash_flow_df)\n",
        "else:\n",
        "    raise ValueError(\"No se encontraron datos de CASH_FLOW para el símbolo dado.\")\n",
        "\n",
        "# Balance sheet\n",
        "if 'annualReports' in data_BALANCE_SHEET:\n",
        "    balance_sheet_df = pd.DataFrame(data_BALANCE_SHEET['annualReports'])\n",
        "    balance_sheet_df = json_to_excel_format(balance_sheet_df)\n",
        "else:\n",
        "    raise ValueError(\"No se encontraron datos de BALANCE_SHEET para el símbolo dado.\")\n",
        "\n",
        "# Precios\n",
        "if 'Time Series (Daily)' in data_PRICES:\n",
        "    prices_df = pd.DataFrame.from_dict(data_PRICES['Time Series (Daily)'], orient='index')\n",
        "    prices_df.index = pd.to_datetime(prices_df.index)\n",
        "    prices_df = prices_df[['4. close']].rename(columns={'4. close': 'Close'})\n",
        "    prices_df['Close'] = prices_df['Close'].astype(float)\n",
        "    prices_df = prices_df.sort_index()\n",
        "    prices_df.reset_index(inplace=True)\n",
        "    prices_df.rename(columns={'index': 'Unnamed: 0'}, inplace=True)  # Para igualar el formato del excel\n",
        "else:\n",
        "    raise ValueError(\"No se encontraron datos de precios en la respuesta JSON\")"
      ],
      "metadata": {
        "id": "116Ef4rs4mQi"
      },
      "execution_count": null,
      "outputs": []
    },
    {
      "cell_type": "markdown",
      "source": [
        "COCIENTE CORRIENTE"
      ],
      "metadata": {
        "id": "e9M7CL0_z_SK"
      }
    },
    {
      "cell_type": "code",
      "source": [
        "# Buscar las filas correspondientes a 'totalCurrentAssets' y 'totalCurrentLiabilities' en la segunda columna\n",
        "total_current_assets = balance_sheet_df[balance_sheet_df.iloc[:, 0] == 'totalCurrentAssets']\n",
        "total_current_liabilities = balance_sheet_df[balance_sheet_df.iloc[:, 0] == 'totalCurrentLiabilities']\n",
        "\n",
        "# Asegurarse de que se encontró una única fila para cada uno\n",
        "if total_current_assets.shape[0] != 1 or total_current_liabilities.shape[0] != 1:\n",
        "    raise ValueError(\"No se encontraron filas únicas para 'totalCurrentAssets' o 'totalCurrentLiabilities'\")\n",
        "\n",
        "# Obtener los valores excluyendo la primera columna (que contiene el nombre de las filas)\n",
        "total_current_assets_values = total_current_assets.iloc[0, 1:].astype(float)\n",
        "total_current_liabilities_values = total_current_liabilities.iloc[0, 1:].astype(float)\n",
        "\n",
        "# Calcular el Cociente Corriente\n",
        "Cociente_corriente = (total_current_liabilities_values / total_current_assets_values) * 100\n",
        "\n",
        "# Crear un nuevo DataFrame para los ratios de liquidez en formato de porcentaje\n",
        "ratios_liquidez_df = pd.DataFrame({\n",
        "    'Fecha': total_current_assets.columns[1:],  # Excluyendo la primera columna\n",
        "    'Cociente Corriente': Cociente_corriente\n",
        "})\n",
        "\n",
        "# Convertir los valores a formato de porcentaje\n",
        "ratios_liquidez_df['Cociente Corriente'] = ratios_liquidez_df['Cociente Corriente'].map(\"{:.2f}%\".format)\n",
        "\n",
        "# Ajustar el índice del DataFrame para evitar duplicación de la columna Fecha\n",
        "ratios_liquidez_df.set_index('Fecha', inplace=True)"
      ],
      "metadata": {
        "id": "b5g7PHMPv7f4"
      },
      "execution_count": null,
      "outputs": []
    },
    {
      "cell_type": "markdown",
      "source": [
        "RELACION DE PRUEBA ACIDA"
      ],
      "metadata": {
        "id": "5DwE9dnN0E1p"
      }
    },
    {
      "cell_type": "code",
      "source": [
        "# Buscar las filas correspondientes a 'totalCurrentAssets', 'inventory' y 'totalCurrentLiabilities'\n",
        "total_current_assets = balance_sheet_df[balance_sheet_df.iloc[:, 0] == 'totalCurrentAssets']\n",
        "inventory = balance_sheet_df[balance_sheet_df.iloc[:, 0] == 'inventory']\n",
        "total_current_liabilities = balance_sheet_df[balance_sheet_df.iloc[:, 0] == 'totalCurrentLiabilities']\n",
        "\n",
        "# Asegurarse de que se encontró una única fila para cada uno\n",
        "if total_current_assets.shape[0] != 1 or inventory.shape[0] != 1 or total_current_liabilities.shape[0] != 1:\n",
        "    raise ValueError(\"No se encontraron filas únicas para 'totalCurrentAssets', 'inventory' o 'totalCurrentLiabilities'\")\n",
        "\n",
        "# Usar pd.to_numeric para convertir a float, manejando errores\n",
        "total_current_assets_values = pd.to_numeric(total_current_assets.iloc[0, 1:], errors='coerce')\n",
        "inventory_values = pd.to_numeric(inventory.iloc[0, 1:], errors='coerce')\n",
        "total_current_liabilities_values = pd.to_numeric(total_current_liabilities.iloc[0, 1:], errors='coerce')\n",
        "\n",
        "# Calcular la Relación de Prueba Ácida\n",
        "relacion_prueba_acida = (total_current_assets_values - inventory_values) / total_current_liabilities_values\n",
        "\n",
        "# Crear un DataFrame para la fecha y la Relación de Prueba Ácida\n",
        "relacion_prueba_acida_df = pd.DataFrame({\n",
        "    'Fecha': total_current_assets.columns[1:],  # Excluyendo la primera columna\n",
        "    'Relación de Prueba Ácida': relacion_prueba_acida.values\n",
        "})\n",
        "\n",
        "# Si querés alinear por fecha (muy recomendado si hay riesgo de desorden), convertí fechas:\n",
        "relacion_prueba_acida_df['Fecha'] = pd.to_datetime(relacion_prueba_acida_df['Fecha'], errors='coerce')\n",
        "relacion_prueba_acida_df.set_index('Fecha', inplace=True)\n",
        "\n",
        "# Ahora agregá la columna al DataFrame ratios_liquidez_df alineando por el índice\n",
        "ratios_liquidez_df['Relación de Prueba Ácida'] = relacion_prueba_acida_df['Relación de Prueba Ácida']"
      ],
      "metadata": {
        "id": "zbMBCXhW0Gyx"
      },
      "execution_count": null,
      "outputs": []
    },
    {
      "cell_type": "markdown",
      "source": [
        "COEFICIENTE DE EFECTIVO"
      ],
      "metadata": {
        "id": "dWop6FY60VBZ"
      }
    },
    {
      "cell_type": "code",
      "source": [
        "# Buscar las filas correspondientes a 'cashAndShortTermInvestments' y 'totalCurrentLiabilities' en la primera columna\n",
        "cash_and_short_term_investments = balance_sheet_df[balance_sheet_df.iloc[:, 0] == 'cashAndShortTermInvestments']\n",
        "total_current_liabilities = balance_sheet_df[balance_sheet_df.iloc[:, 0] == 'totalCurrentLiabilities']\n",
        "\n",
        "# Asegurarse de que se encontró una única fila para cada uno\n",
        "if cash_and_short_term_investments.shape[0] != 1 or total_current_liabilities.shape[0] != 1:\n",
        "    raise ValueError(\"No se encontraron filas únicas para 'cashAndShortTermInvestments' o 'totalCurrentLiabilities'\")\n",
        "\n",
        "# Obtener los valores excluyendo la primera columna (que contiene el nombre de las filas)\n",
        "cash_and_short_term_investments_values = cash_and_short_term_investments.iloc[0, 1:].astype(float)\n",
        "total_current_liabilities_values = total_current_liabilities.iloc[0, 1:].astype(float)\n",
        "\n",
        "# Calcular el Coeficiente de Efectivo en porcentaje\n",
        "coeficiente_efectivo = (cash_and_short_term_investments_values / total_current_liabilities_values) * 100\n",
        "\n",
        "# Crear un DataFrame para la fecha y el Coeficiente de Efectivo\n",
        "coeficiente_efectivo_df = pd.DataFrame({\n",
        "    'Fecha': cash_and_short_term_investments.columns[1:],  # Excluyendo la primera columna\n",
        "    'Coeficiente de Efectivo': coeficiente_efectivo\n",
        "})\n",
        "\n",
        "# Convertir los valores a formato de porcentaje\n",
        "coeficiente_efectivo_df['Coeficiente de Efectivo'] = coeficiente_efectivo_df['Coeficiente de Efectivo'].map(\"{:.2f}%\".format)\n",
        "\n",
        "# Agregar la columna al DataFrame ratios_liquidez_df\n",
        "ratios_liquidez_df['Coeficiente de Efectivo'] = coeficiente_efectivo_df['Coeficiente de Efectivo'].values"
      ],
      "metadata": {
        "id": "u4Xq1WOx0YDS"
      },
      "execution_count": null,
      "outputs": []
    },
    {
      "cell_type": "markdown",
      "source": [
        "RATIO DE FLUJO DE CAJA OPERATIVO"
      ],
      "metadata": {
        "id": "nc4c2Ldk1P8Z"
      }
    },
    {
      "cell_type": "code",
      "source": [
        "# Buscar las filas correspondientes a 'operatingCashflow' en cash_flow_df y 'totalCurrentLiabilities' en balance_sheet_df\n",
        "operating_cashflow = cash_flow_df[cash_flow_df.iloc[:, 0] == 'operatingCashflow']\n",
        "total_current_liabilities = balance_sheet_df[balance_sheet_df.iloc[:, 0] == 'totalCurrentLiabilities']\n",
        "\n",
        "# Asegurarse de que se encontró una única fila para cada uno\n",
        "if operating_cashflow.shape[0] != 1 or total_current_liabilities.shape[0] != 1:\n",
        "    raise ValueError(\"No se encontraron filas únicas para 'operatingCashflow' o 'totalCurrentLiabilities'\")\n",
        "\n",
        "# Obtener los valores excluyendo la primera columna (que contiene el nombre de las filas)\n",
        "operating_cashflow_values = operating_cashflow.iloc[0, 1:].astype(float)\n",
        "total_current_liabilities_values = total_current_liabilities.iloc[0, 1:].astype(float)\n",
        "\n",
        "# Calcular el Ratio de Flujo de Caja Operativo en porcentaje\n",
        "ratio_flujo_caja_operativo = (operating_cashflow_values / total_current_liabilities_values) * 100\n",
        "\n",
        "# Crear un DataFrame para la fecha y el Ratio de Flujo de Caja Operativo\n",
        "ratio_flujo_caja_operativo_df = pd.DataFrame({\n",
        "    'Fecha': operating_cashflow.columns[1:],  # Excluyendo la primera columna\n",
        "    'Ratio de Flujo de Caja Operativo': ratio_flujo_caja_operativo\n",
        "})\n",
        "\n",
        "# Convertir los valores a formato de porcentaje\n",
        "ratio_flujo_caja_operativo_df['Ratio de Flujo de Caja Operativo'] = ratio_flujo_caja_operativo_df['Ratio de Flujo de Caja Operativo'].map(\"{:.2f}%\".format)\n",
        "\n",
        "# Agregar la columna al DataFrame ratios_liquidez_df\n",
        "ratios_liquidez_df['Ratio de Flujo de Caja Operativo'] = ratio_flujo_caja_operativo_df['Ratio de Flujo de Caja Operativo'].values"
      ],
      "metadata": {
        "id": "XLTq1fKH1T8R"
      },
      "execution_count": null,
      "outputs": []
    },
    {
      "cell_type": "markdown",
      "source": [
        "***RATIOS DE LIQUIDEZ***"
      ],
      "metadata": {
        "id": "-pblcXr11f3h"
      }
    },
    {
      "cell_type": "code",
      "source": [
        "# Mostrar el DataFrame como tabla con bordes cuadrados (fancy_grid)\n",
        "print(\"DataFrame con Ratios de Liquidez por Año:\")\n",
        "print(tabulate(ratios_liquidez_df, headers='keys', tablefmt='fancy_grid', showindex=True))"
      ],
      "metadata": {
        "id": "mKi2l3lk1jFJ"
      },
      "execution_count": null,
      "outputs": []
    },
    {
      "cell_type": "code",
      "source": [
        "# Convertir las columnas de porcentaje a valores numéricos, manejando excepciones\n",
        "def convert_percentage(x):\n",
        "    try:\n",
        "        return float(x.strip('%'))\n",
        "    except AttributeError:\n",
        "        return x\n",
        "\n",
        "ratios_liquidez_df = ratios_liquidez_df.applymap(convert_percentage)\n",
        "\n",
        "# Graficar cada columna del DataFrame\n",
        "for column in ratios_liquidez_df.columns:\n",
        "    plt.figure(figsize=(10, 6))\n",
        "    plt.plot(ratios_liquidez_df.index, ratios_liquidez_df[column], marker='o', linestyle='-', color='b')\n",
        "    plt.title(f'{column} por Año')\n",
        "    plt.xlabel('Fecha')\n",
        "    plt.ylabel(column)\n",
        "    plt.xticks(rotation=45)\n",
        "    plt.grid(True)\n",
        "    plt.tight_layout()\n",
        "    plt.show()"
      ],
      "metadata": {
        "id": "F_VPyJ3i1ypp"
      },
      "execution_count": null,
      "outputs": []
    },
    {
      "cell_type": "markdown",
      "source": [
        "RATIO DE ENDEUDAMIENTO"
      ],
      "metadata": {
        "id": "co0ktOCi8Avl"
      }
    },
    {
      "cell_type": "code",
      "source": [
        "# Buscar las filas correspondientes a 'totalLiabilities' y 'totalAssets' en la primera columna\n",
        "total_liabilities = balance_sheet_df[balance_sheet_df.iloc[:, 0] == 'totalLiabilities']\n",
        "total_assets = balance_sheet_df[balance_sheet_df.iloc[:, 0] == 'totalAssets']\n",
        "\n",
        "# Asegurarse de que se encontró una única fila para cada uno\n",
        "if total_liabilities.shape[0] != 1 or total_assets.shape[0] != 1:\n",
        "    raise ValueError(\"No se encontraron filas únicas para 'totalLiabilities' o 'totalAssets'\")\n",
        "\n",
        "# Obtener los valores excluyendo la primera columna (que contiene el nombre de las filas)\n",
        "total_liabilities_values = total_liabilities.iloc[0, 1:].astype(float)\n",
        "total_assets_values = total_assets.iloc[0, 1:].astype(float)\n",
        "\n",
        "# Calcular el Ratio de Endeudamiento en porcentaje\n",
        "ratio_endeudamiento = (total_liabilities_values / total_assets_values) * 100\n",
        "\n",
        "# Crear un DataFrame para la fecha y el Ratio de Endeudamiento\n",
        "apalancamiento_df = pd.DataFrame({\n",
        "    'Fecha': total_liabilities.columns[1:],  # Excluyendo la primera columna\n",
        "    'Ratio de Endeudamiento': ratio_endeudamiento\n",
        "})\n",
        "\n",
        "# Convertir los valores a formato de porcentaje\n",
        "apalancamiento_df['Ratio de Endeudamiento'] = apalancamiento_df['Ratio de Endeudamiento'].map(\"{:.2f}%\".format)\n",
        "\n",
        "# Establecer la columna de fechas como índice para evitar duplicación\n",
        "apalancamiento_df.set_index('Fecha', inplace=True)"
      ],
      "metadata": {
        "id": "DS44ho4A8ETT"
      },
      "execution_count": null,
      "outputs": []
    },
    {
      "cell_type": "markdown",
      "source": [
        "RATIO DEUDA/CAPITAL"
      ],
      "metadata": {
        "id": "tAo4Jhy59fLE"
      }
    },
    {
      "cell_type": "code",
      "source": [
        "# Buscar las filas correspondientes a 'totalLiabilities' y 'totalShareholderEquity' en la primera columna\n",
        "total_liabilities = balance_sheet_df[balance_sheet_df.iloc[:, 0] == 'totalLiabilities']\n",
        "total_shareholder_equity = balance_sheet_df[balance_sheet_df.iloc[:, 0] == 'totalShareholderEquity']\n",
        "\n",
        "# Asegurarse de que se encontró una única fila para cada uno\n",
        "if total_liabilities.shape[0] != 1 or total_shareholder_equity.shape[0] != 1:\n",
        "    raise ValueError(\"No se encontraron filas únicas para 'totalLiabilities' o 'totalShareholderEquity'\")\n",
        "\n",
        "# Obtener los valores excluyendo la primera columna (que contiene el nombre de las filas)\n",
        "total_liabilities_values = total_liabilities.iloc[0, 1:].astype(float)\n",
        "total_shareholder_equity_values = total_shareholder_equity.iloc[0, 1:].astype(float)\n",
        "\n",
        "# Calcular el Ratio de Deuda a Capital\n",
        "ratio_deuda_capital = (total_liabilities_values / total_shareholder_equity_values) * 100\n",
        "\n",
        "# Crear un DataFrame para la fecha y el Ratio de Deuda a Capital\n",
        "ratio_deuda_capital_df = pd.DataFrame({\n",
        "    'Fecha': total_liabilities.columns[1:],  # Excluyendo la primera columna\n",
        "    'Ratio de Deuda a Capital': ratio_deuda_capital\n",
        "})\n",
        "\n",
        "# Convertir la columna 'Fecha' a tipo datetime\n",
        "ratio_deuda_capital_df['Fecha'] = pd.to_datetime(ratio_deuda_capital_df['Fecha'])\n",
        "\n",
        "# Establecer 'Fecha' como índice en ratio_deuda_capital_df\n",
        "ratio_deuda_capital_df.set_index('Fecha', inplace=True)\n",
        "\n",
        "# Si 'Fecha' está en las columnas de apalancamiento_df, eliminarla para evitar duplicaciones\n",
        "if 'Fecha' in apalancamiento_df.columns:\n",
        "    apalancamiento_df.drop(columns=['Fecha'], inplace=True)\n",
        "\n",
        "# Asegurarse de que el índice de apalancamiento_df sea de tipo datetime para la columna 'Fecha'\n",
        "if not pd.api.types.is_datetime64_any_dtype(apalancamiento_df.index):\n",
        "    apalancamiento_df.index = pd.to_datetime(apalancamiento_df.index)\n",
        "\n",
        "# Agregar la columna al DataFrame apalancamiento_df\n",
        "apalancamiento_df['Ratio de Deuda a Capital'] = ratio_deuda_capital_df['Ratio de Deuda a Capital']"
      ],
      "metadata": {
        "id": "4zYY8vp09egU"
      },
      "execution_count": null,
      "outputs": []
    },
    {
      "cell_type": "markdown",
      "source": [
        "RATIO EBIT/INTERESES"
      ],
      "metadata": {
        "id": "avfxrsq8CNS0"
      }
    },
    {
      "cell_type": "code",
      "source": [
        "# Buscar las filas correspondientes a 'ebit' y 'interestExpense' en la primera columna\n",
        "ebit = income_statement_df[income_statement_df.iloc[:, 0] == 'ebit']\n",
        "interest_expense = income_statement_df[income_statement_df.iloc[:, 0] == 'interestExpense']\n",
        "\n",
        "# Asegurarse de que se encontró una única fila para cada uno\n",
        "if ebit.shape[0] != 1 or interest_expense.shape[0] != 1:\n",
        "    raise ValueError(\"No se encontraron filas únicas para 'ebit' o 'interestExpense'\")\n",
        "\n",
        "# Obtener los valores excluyendo la primera columna (que contiene el nombre de las filas)\n",
        "ebit_values = ebit.iloc[0, 1:].astype(float).values\n",
        "interest_expense_values = interest_expense.iloc[0, 1:].astype(float).values\n",
        "\n",
        "# Calcular el RATIO EBIT/INTERESES\n",
        "ratio_ebit_intereses = ebit_values / interest_expense_values\n",
        "\n",
        "# Crear un DataFrame para la fecha y el RATIO EBIT/INTERESES\n",
        "ratio_ebit_intereses_df = pd.DataFrame({\n",
        "    'Fecha': ebit.columns[1:],  # Excluyendo la primera columna\n",
        "    'RATIO EBIT/INTERESES': ratio_ebit_intereses\n",
        "})\n",
        "\n",
        "# Convertir la columna 'Fecha' a tipo datetime\n",
        "ratio_ebit_intereses_df['Fecha'] = pd.to_datetime(ratio_ebit_intereses_df['Fecha'])\n",
        "\n",
        "# Establecer 'Fecha' como índice en ratio_ebit_intereses_df\n",
        "ratio_ebit_intereses_df.set_index('Fecha', inplace=True)\n",
        "\n",
        "# Si 'Fecha' está en las columnas de apalancamiento_df, eliminarla para evitar duplicaciones\n",
        "if 'Fecha' in apalancamiento_df.columns:\n",
        "    apalancamiento_df.drop(columns=['Fecha'], inplace=True)\n",
        "\n",
        "# Asegurarse de que el índice de apalancamiento_df sea de tipo datetime para la columna 'Fecha'\n",
        "if not pd.api.types.is_datetime64_any_dtype(apalancamiento_df.index):\n",
        "    apalancamiento_df.index = pd.to_datetime(apalancamiento_df.index)\n",
        "\n",
        "# Agregar la columna al DataFrame apalancamiento_df\n",
        "apalancamiento_df['RATIO EBIT/INTERESES'] = ratio_ebit_intereses_df['RATIO EBIT/INTERESES']"
      ],
      "metadata": {
        "id": "u2D_YpVECYOA"
      },
      "execution_count": null,
      "outputs": []
    },
    {
      "cell_type": "markdown",
      "source": [
        "***RATIOS DE APALANCAMIENTO***"
      ],
      "metadata": {
        "id": "hEwFiaTjKlpu"
      }
    },
    {
      "cell_type": "code",
      "source": [
        "print(\"DataFrame con Ratios de Apalancamiento por Año:\")\n",
        "print(tabulate(apalancamiento_df, headers=\"keys\", tablefmt=\"fancy_grid\", showindex=True))"
      ],
      "metadata": {
        "id": "3OXjW3iyKn1Q"
      },
      "execution_count": null,
      "outputs": []
    },
    {
      "cell_type": "code",
      "source": [
        "# Verificar si 'Fecha' está en las columnas de apalancamiento_df\n",
        "if 'Fecha' in apalancamiento_df.columns:\n",
        "    # Convertir la columna 'Fecha' a tipo datetime si no lo está\n",
        "    apalancamiento_df['Fecha'] = pd.to_datetime(apalancamiento_df['Fecha'])\n",
        "    # Establecer 'Fecha' como índice\n",
        "    apalancamiento_df.set_index('Fecha', inplace=True)\n",
        "\n",
        "# Convertir las columnas de porcentaje a float para ordenarlas correctamente, si no están ya en float\n",
        "if apalancamiento_df['Ratio de Endeudamiento'].dtype == 'object':\n",
        "    apalancamiento_df['Ratio de Endeudamiento'] = apalancamiento_df['Ratio de Endeudamiento'].str.rstrip('%').astype('float') / 100\n",
        "if apalancamiento_df['Ratio de Deuda a Capital'].dtype == 'object':\n",
        "    apalancamiento_df['Ratio de Deuda a Capital'] = apalancamiento_df['Ratio de Deuda a Capital'].str.rstrip('%').astype('float') / 100\n",
        "\n",
        "# Crear gráficos para cada ratio en el DataFrame apalancamiento_df\n",
        "fig, axs = plt.subplots(len(apalancamiento_df.columns), 1, figsize=(10, 15))\n",
        "\n",
        "for i, column in enumerate(apalancamiento_df.columns):\n",
        "    axs[i].plot(apalancamiento_df.index, apalancamiento_df[column], marker='o')\n",
        "    axs[i].set_title(column)\n",
        "    axs[i].set_xlabel('Fecha')\n",
        "    axs[i].set_ylabel(column)\n",
        "    axs[i].grid(True)\n",
        "\n",
        "plt.tight_layout()\n",
        "plt.show()"
      ],
      "metadata": {
        "id": "cPEjhhBFKq8m"
      },
      "execution_count": null,
      "outputs": []
    },
    {
      "cell_type": "markdown",
      "source": [
        "MARGEN BRUTO"
      ],
      "metadata": {
        "id": "o4bD-vsrVj4C"
      }
    },
    {
      "cell_type": "code",
      "source": [
        "# Buscar las filas correspondientes a 'grossProfit' y 'totalRevenue' en la primera columna\n",
        "gross_profit = income_statement_df[income_statement_df.iloc[:, 0] == 'grossProfit']\n",
        "total_revenue = income_statement_df[income_statement_df.iloc[:, 0] == 'totalRevenue']\n",
        "\n",
        "# Asegurarse de que se encontró una única fila para cada uno\n",
        "if gross_profit.shape[0] != 1 or total_revenue.shape[0] != 1:\n",
        "    raise ValueError(\"No se encontraron filas únicas para 'grossProfit' o 'totalRevenue'\")\n",
        "\n",
        "# Convertir las columnas a tipo float excluyendo la primera columna (que contiene el nombre de las filas)\n",
        "gross_profit_values = gross_profit.iloc[0, 1:].astype(float).values\n",
        "total_revenue_values = total_revenue.iloc[0, 1:].astype(float).values\n",
        "\n",
        "# Calcular el Ratio de Margen Bruto\n",
        "ratio_margen_bruto = (gross_profit_values / total_revenue_values) * 100\n",
        "\n",
        "# Crear un DataFrame para la fecha y el Ratio de Margen Bruto\n",
        "ratio_margen_bruto_df = pd.DataFrame({\n",
        "    'Fecha': gross_profit.columns[1:],  # Excluyendo la primera columna\n",
        "    'Ratio de Margen Bruto': ratio_margen_bruto\n",
        "})\n",
        "\n",
        "# Convertir la columna 'Fecha' a tipo datetime\n",
        "ratio_margen_bruto_df['Fecha'] = pd.to_datetime(ratio_margen_bruto_df['Fecha'])\n",
        "\n",
        "# Establecer 'Fecha' como índice en ratio_margen_bruto_df\n",
        "ratio_margen_bruto_df.set_index('Fecha', inplace=True)\n",
        "\n",
        "# Crear el DataFrame rentabilidad_df\n",
        "rentabilidad_df = ratio_margen_bruto_df.copy()\n",
        "\n",
        "# Convertir los valores de 'Ratio de Margen Bruto' a float sin el formato de porcentaje\n",
        "rentabilidad_df['Ratio de Margen Bruto'] = rentabilidad_df['Ratio de Margen Bruto'].astype(float)"
      ],
      "metadata": {
        "id": "tcPTI15EV4OA"
      },
      "execution_count": null,
      "outputs": []
    },
    {
      "cell_type": "markdown",
      "source": [
        "MARGEN OPERATIVO"
      ],
      "metadata": {
        "id": "rBJSezm5WVvD"
      }
    },
    {
      "cell_type": "code",
      "source": [
        "# Buscar las filas correspondientes a 'operatingIncome' y 'totalRevenue' en la primera columna\n",
        "operating_income = income_statement_df[income_statement_df.iloc[:, 0] == 'operatingIncome']\n",
        "total_revenue = income_statement_df[income_statement_df.iloc[:, 0] == 'totalRevenue']\n",
        "\n",
        "# Asegurarse de que se encontró una única fila para cada uno\n",
        "if operating_income.shape[0] != 1 or total_revenue.shape[0] != 1:\n",
        "    raise ValueError(\"No se encontraron filas únicas para 'operatingIncome' o 'totalRevenue'\")\n",
        "\n",
        "# Convertir las columnas a tipo float excluyendo la primera columna (que contiene el nombre de las filas)\n",
        "operating_income_values = operating_income.iloc[0, 1:].astype(float).values\n",
        "total_revenue_values = total_revenue.iloc[0, 1:].astype(float).values\n",
        "\n",
        "# Calcular el Ratio de Margen Operativo\n",
        "ratio_margen_operativo = (operating_income_values / total_revenue_values) * 100\n",
        "\n",
        "# Crear un DataFrame para la fecha y el Ratio de Margen Operativo\n",
        "ratio_margen_operativo_df = pd.DataFrame({\n",
        "    'Fecha': operating_income.columns[1:],  # Excluyendo la primera columna\n",
        "    'Ratio de Margen Operativo': ratio_margen_operativo\n",
        "})\n",
        "\n",
        "# Convertir la columna 'Fecha' a tipo datetime\n",
        "ratio_margen_operativo_df['Fecha'] = pd.to_datetime(ratio_margen_operativo_df['Fecha'])\n",
        "\n",
        "# Establecer 'Fecha' como índice en ratio_margen_operativo_df\n",
        "ratio_margen_operativo_df.set_index('Fecha', inplace=True)\n",
        "\n",
        "# Agregar esta columna a rentabilidad_df\n",
        "if 'rentabilidad_df' in globals():\n",
        "    rentabilidad_df = rentabilidad_df.drop(columns=['Ratio de Margen Operativo'], errors='ignore')\n",
        "    rentabilidad_df = rentabilidad_df.join(ratio_margen_operativo_df, how='outer')\n",
        "else:\n",
        "    rentabilidad_df = ratio_margen_operativo_df.copy()"
      ],
      "metadata": {
        "id": "EOu8UZPmWgrJ"
      },
      "execution_count": null,
      "outputs": []
    },
    {
      "cell_type": "markdown",
      "source": [
        "ROA"
      ],
      "metadata": {
        "id": "VqT5fQZcWrtx"
      }
    },
    {
      "cell_type": "code",
      "source": [
        "# Buscar las filas correspondientes a 'totalRevenue', 'totalAssets' y 'netIncome'\n",
        "total_revenue = income_statement_df[income_statement_df.iloc[:, 0] == 'totalRevenue']\n",
        "total_assets = balance_sheet_df[balance_sheet_df.iloc[:, 0] == 'totalAssets']\n",
        "\n",
        "# netIncome suele estar en cash_flow_df, pero puede estar en income_statement_df también:\n",
        "if 'netIncome' in income_statement_df.iloc[:, 0].values:\n",
        "    net_income = income_statement_df[income_statement_df.iloc[:, 0] == 'netIncome']\n",
        "else:\n",
        "    net_income = cash_flow_df[cash_flow_df.iloc[:, 0] == 'netIncome']\n",
        "\n",
        "# Asegurarse de que se encontró una única fila para cada uno\n",
        "if total_revenue.shape[0] != 1 or total_assets.shape[0] != 1 or net_income.shape[0] != 1:\n",
        "    raise ValueError(\"No se encontraron filas únicas para 'totalRevenue', 'totalAssets' o 'netIncome'\")\n",
        "\n",
        "# Convertir columnas a float (excluyendo la primera columna)\n",
        "fecha_cols = total_revenue.columns[1:]  # Todas salvo la primera\n",
        "\n",
        "total_revenue_values = pd.to_numeric(total_revenue.iloc[0, 1:], errors='coerce').values\n",
        "total_assets_values = pd.to_numeric(total_assets.iloc[0, 1:], errors='coerce').values\n",
        "net_income_values = pd.to_numeric(net_income.iloc[0, 1:], errors='coerce').values\n",
        "\n",
        "# Calcular el Ratio de Rentabilidad de los Activos (ROA)\n",
        "ratio_rentabilidad_activos = (net_income_values / total_assets_values) * 100\n",
        "\n",
        "# Crear DataFrame con fechas y ROA\n",
        "ratio_rentabilidad_activos_df = pd.DataFrame({\n",
        "    'Fecha': fecha_cols,\n",
        "    'ROA': ratio_rentabilidad_activos\n",
        "})\n",
        "\n",
        "# Convertir 'Fecha' a datetime\n",
        "ratio_rentabilidad_activos_df['Fecha'] = pd.to_datetime(ratio_rentabilidad_activos_df['Fecha'], errors='coerce')\n",
        "\n",
        "# Establecer 'Fecha' como índice\n",
        "ratio_rentabilidad_activos_df.set_index('Fecha', inplace=True)\n",
        "\n",
        "# Agregar esta columna a rentabilidad_df (alineando por índice)\n",
        "if 'rentabilidad_df' in globals():\n",
        "    rentabilidad_df = rentabilidad_df.drop(columns=['ROA'], errors='ignore')\n",
        "    rentabilidad_df = rentabilidad_df.join(ratio_rentabilidad_activos_df, how='outer')\n",
        "else:\n",
        "    rentabilidad_df = ratio_rentabilidad_activos_df.copy()"
      ],
      "metadata": {
        "id": "wnui8pUGWtXg"
      },
      "execution_count": null,
      "outputs": []
    },
    {
      "cell_type": "markdown",
      "source": [
        "ROE"
      ],
      "metadata": {
        "id": "q2kbvgCMXmxj"
      }
    },
    {
      "cell_type": "code",
      "source": [
        "# Buscar las filas correspondientes a 'netIncome' en income_statement_df y 'totalShareholderEquity' en balance_sheet_df\n",
        "net_income = income_statement_df[income_statement_df.iloc[:, 0] == 'netIncome']\n",
        "total_shareholder_equity = balance_sheet_df[balance_sheet_df.iloc[:, 0] == 'totalShareholderEquity']\n",
        "\n",
        "# Asegurarse de que se encontró al menos una fila para cada uno\n",
        "if net_income.shape[0] == 0 or total_shareholder_equity.shape[0] == 0:\n",
        "    raise ValueError(\"No se encontraron filas para 'netIncome' o 'totalShareholderEquity'\")\n",
        "\n",
        "# Convertir las columnas a tipo float excluyendo la primera columna (que contiene el nombre de las filas)\n",
        "net_income_values = net_income.iloc[0, 1:].astype(float).values\n",
        "total_shareholder_equity_values = total_shareholder_equity.iloc[0, 1:].astype(float).values\n",
        "\n",
        "# Calcular el Ratio de Rentabilidad sobre Fondos Propios (ROE)\n",
        "ratio_rentabilidad_fondos_propios = (net_income_values / total_shareholder_equity_values) * 100\n",
        "\n",
        "# Crear un DataFrame para la fecha y el Ratio de Rentabilidad sobre Fondos Propios (ROE)\n",
        "ratio_rentabilidad_fondos_propios_df = pd.DataFrame({\n",
        "    'Fecha': net_income.columns[1:],  # Excluyendo la primera columna\n",
        "    'ROE': ratio_rentabilidad_fondos_propios\n",
        "})\n",
        "\n",
        "# Convertir la columna 'Fecha' a tipo datetime\n",
        "ratio_rentabilidad_fondos_propios_df['Fecha'] = pd.to_datetime(ratio_rentabilidad_fondos_propios_df['Fecha'])\n",
        "\n",
        "# Establecer 'Fecha' como índice en ratio_rentabilidad_fondos_propios_df\n",
        "ratio_rentabilidad_fondos_propios_df.set_index('Fecha', inplace=True)\n",
        "\n",
        "# Agregar esta columna a rentabilidad_df\n",
        "if 'rentabilidad_df' in globals():\n",
        "    rentabilidad_df = rentabilidad_df.drop(columns=['ROE'], errors='ignore')\n",
        "    rentabilidad_df = rentabilidad_df.join(ratio_rentabilidad_fondos_propios_df, how='outer')\n",
        "else:\n",
        "    rentabilidad_df = ratio_rentabilidad_fondos_propios_df.copy()"
      ],
      "metadata": {
        "id": "niTwqXOIXnSZ"
      },
      "execution_count": null,
      "outputs": []
    },
    {
      "cell_type": "markdown",
      "source": [
        "P/B RATIO"
      ],
      "metadata": {
        "id": "Hb-cUjlkmvoD"
      }
    },
    {
      "cell_type": "code",
      "source": [
        "# Extraer las fechas (todas las columnas menos la primera, que es 'Concepto')\n",
        "fecha_cols = balance_sheet_df.columns[1:]\n",
        "\n",
        "# Encontrar el índice de las filas relevantes\n",
        "idx_equity = balance_sheet_df[balance_sheet_df.iloc[:, 0] == 'totalShareholderEquity'].index[0]\n",
        "idx_shares = balance_sheet_df[balance_sheet_df.iloc[:, 0] == 'commonStockSharesOutstanding'].index[0]\n",
        "\n",
        "# Calcular Book Value Per Share para cada fecha\n",
        "book_value_per_share = []\n",
        "for fecha in fecha_cols:\n",
        "    try:\n",
        "        equity = float(balance_sheet_df.loc[idx_equity, fecha])\n",
        "        shares = float(balance_sheet_df.loc[idx_shares, fecha])\n",
        "        bvps = equity / shares if shares != 0 else float('nan')\n",
        "    except Exception:\n",
        "        bvps = float('nan')\n",
        "    book_value_per_share.append(bvps)\n",
        "\n",
        "# Encontrar el precio más cercano para cada fecha de reporte\n",
        "closest_price = []\n",
        "for fecha in fecha_cols:\n",
        "    try:\n",
        "        fecha_dt = pd.to_datetime(fecha)\n",
        "        price_row = prices_df.iloc[(prices_df['Unnamed: 0']-fecha_dt).abs().argsort()[:1]]\n",
        "        price = price_row['Close'].values[0]\n",
        "    except Exception:\n",
        "        price = float('nan')\n",
        "    closest_price.append(price)\n",
        "\n",
        "# Calcular el P/B Ratio\n",
        "pb_ratio = [p/b if b and not pd.isna(b) and b != 0 else float('nan') for p, b in zip(closest_price, book_value_per_share)]\n",
        "\n",
        "# Agregar el P/B Ratio a rentabilidad_df, alineando fechas\n",
        "rentabilidad_df['P/B Ratio'] = pb_ratio"
      ],
      "metadata": {
        "id": "pvHvDvo_mx5D"
      },
      "execution_count": null,
      "outputs": []
    },
    {
      "cell_type": "markdown",
      "source": [
        "RENTABILIDAD POR DIVIDENDO"
      ],
      "metadata": {
        "id": "RxSuTLVhm1pN"
      }
    },
    {
      "cell_type": "code",
      "source": [
        "# Encontrar la fila que corresponde a dividendPayoutCommonStock (puede que haya un label NaT en el índice)\n",
        "mask = cash_flow_df.iloc[:, 0] == 'dividendPayoutCommonStock'\n",
        "if mask.any():\n",
        "    idx = cash_flow_df.index[mask][0]\n",
        "    dividendos = pd.to_numeric(cash_flow_df.loc[idx, cash_flow_df.columns[1:]], errors='coerce')\n",
        "else:\n",
        "    dividendos = pd.Series([float('nan')] * (cash_flow_df.shape[1] - 1), index=cash_flow_df.columns[1:])\n",
        "\n",
        "# Igual para commonStockSharesOutstanding en balance_sheet_df\n",
        "mask_shares = balance_sheet_df.iloc[:, 0] == 'commonStockSharesOutstanding'\n",
        "if mask_shares.any():\n",
        "    idx_sh = balance_sheet_df.index[mask_shares][0]\n",
        "    acciones = pd.to_numeric(balance_sheet_df.loc[idx_sh, balance_sheet_df.columns[1:]], errors='coerce')\n",
        "else:\n",
        "    acciones = pd.Series([float('nan')] * (balance_sheet_df.shape[1] - 1), index=balance_sheet_df.columns[1:])\n",
        "\n",
        "# Dividendo por acción\n",
        "dividendo_x_accion = dividendos / acciones\n",
        "\n",
        "# Precio más cercano a la fecha de reporte\n",
        "precios = []\n",
        "for fecha in cash_flow_df.columns[1:]:\n",
        "    try:\n",
        "        fecha_dt = pd.to_datetime(fecha)\n",
        "        price_row = prices_df.iloc[(prices_df['Unnamed: 0']-fecha_dt).abs().argsort()[:1]]\n",
        "        price = price_row['Close'].values[0]\n",
        "    except Exception:\n",
        "        price = float('nan')\n",
        "    precios.append(price)\n",
        "precios_series = pd.Series(precios, index=cash_flow_df.columns[1:])\n",
        "\n",
        "# Dividend yield (%)\n",
        "dividend_yield = (dividendo_x_accion / precios_series) * 100\n",
        "\n",
        "# Lo agregás al rentabilidad_df, alineando por índice/fechas en columnas\n",
        "# Si el índice de rentabilidad_df son fechas, asegurate que coincidan exactamente en formato con cash_flow_df.columns[1:]\n",
        "dividend_yield.index = pd.to_datetime(dividend_yield.index)\n",
        "if not isinstance(rentabilidad_df.index, pd.DatetimeIndex):\n",
        "    rentabilidad_df.index = pd.to_datetime(rentabilidad_df.index)\n",
        "\n",
        "# Asignar alineando índices (fechas)\n",
        "rentabilidad_df['Dividend Yield (%)'] = dividend_yield"
      ],
      "metadata": {
        "id": "mOCqQjLrm2QT"
      },
      "execution_count": null,
      "outputs": []
    },
    {
      "cell_type": "markdown",
      "source": [
        "EPS"
      ],
      "metadata": {
        "id": "X7YM8gxIpbT2"
      }
    },
    {
      "cell_type": "code",
      "source": [
        "# 1. Las columnas son strings (e.g. '2005-09-30')\n",
        "fecha_cols = cash_flow_df.columns[1:]  # O balance_sheet_df.columns[1:], ambas strings\n",
        "\n",
        "# 2. Buscar la fila de netIncome\n",
        "mask_net_income = cash_flow_df.iloc[:, 0] == 'netIncome'\n",
        "if mask_net_income.any():\n",
        "    idx_net = cash_flow_df.index[mask_net_income][0]\n",
        "    net_income = pd.to_numeric(\n",
        "        cash_flow_df.loc[idx_net, fecha_cols], errors='coerce'\n",
        "    )\n",
        "else:\n",
        "    net_income = pd.Series([float('nan')]*len(fecha_cols), index=fecha_cols)\n",
        "\n",
        "# 3. Buscar la fila de commonStockSharesOutstanding en balance_sheet_df\n",
        "mask_shares = balance_sheet_df.iloc[:, 0] == 'commonStockSharesOutstanding'\n",
        "if mask_shares.any():\n",
        "    idx_shares = balance_sheet_df.index[mask_shares][0]\n",
        "    acciones = pd.to_numeric(\n",
        "        balance_sheet_df.loc[idx_shares, fecha_cols], errors='coerce'\n",
        "    )\n",
        "else:\n",
        "    acciones = pd.Series([float('nan')]*len(fecha_cols), index=fecha_cols)\n",
        "\n",
        "# 4. Calcular EPS por fecha\n",
        "eps = net_income / acciones\n",
        "\n",
        "# 5. Convertir índice de EPS y rentabilidad_df a datetime para alineación\n",
        "eps.index = pd.to_datetime(eps.index)\n",
        "if not isinstance(rentabilidad_df.index, pd.DatetimeIndex):\n",
        "    rentabilidad_df.index = pd.to_datetime(rentabilidad_df.index)\n",
        "\n",
        "# 6. Limpiar duplicados y NaT\n",
        "eps = eps[~eps.index.duplicated(keep='first')]\n",
        "eps = eps[~eps.index.isna()]\n",
        "rentabilidad_df = rentabilidad_df[~rentabilidad_df.index.duplicated(keep='first')]\n",
        "rentabilidad_df = rentabilidad_df[~rentabilidad_df.index.isna()]\n",
        "\n",
        "# 7. Asignar EPS alineando por fecha\n",
        "rentabilidad_df['EPS'] = eps"
      ],
      "metadata": {
        "id": "glg7GYYspb2f"
      },
      "execution_count": null,
      "outputs": []
    },
    {
      "cell_type": "markdown",
      "source": [
        "P/E RATIO"
      ],
      "metadata": {
        "id": "c_FUPqNv4EBK"
      }
    },
    {
      "cell_type": "code",
      "source": [
        "# Renombrar la columna sin nombre en prices_df a 'date'\n",
        "prices_df.rename(columns={'Unnamed: 0': 'date', 'Close': 'price'}, inplace=True)\n",
        "prices_df['date'] = pd.to_datetime(prices_df['date'])\n",
        "\n",
        "# Convertir la columna 'fiscalDateEnding' a tipo datetime en rentabilidad_df\n",
        "rentabilidad_df.index = pd.to_datetime(rentabilidad_df.index, errors='coerce')\n",
        "\n",
        "# Función para encontrar el precio más cercano a una fecha dada\n",
        "def find_closest_price(date, prices_df):\n",
        "    closest_date = prices_df.iloc[(prices_df['date'] - date).abs().argsort()[:1]]['date'].values[0]\n",
        "    closest_price = prices_df[prices_df['date'] == closest_date]['price'].values[0]\n",
        "    return closest_price\n",
        "\n",
        "# Aplicar la función para encontrar el precio más cercano para cada fecha en rentabilidad_df\n",
        "rentabilidad_df['closest_price'] = rentabilidad_df.index.to_series().apply(lambda x: find_closest_price(x, prices_df))\n",
        "\n",
        "# Calcular el P/E Ratio\n",
        "rentabilidad_df['P/E Ratio'] = rentabilidad_df['closest_price'] / rentabilidad_df['EPS']\n",
        "\n",
        "# Eliminar la columna 'closest_price'\n",
        "rentabilidad_df.drop(columns=['closest_price'], inplace=True)"
      ],
      "metadata": {
        "id": "OC6cSAvn4L6w"
      },
      "execution_count": null,
      "outputs": []
    },
    {
      "cell_type": "markdown",
      "source": [
        "***RATIOS DE RENTABILIDAD Y PRECIO***"
      ],
      "metadata": {
        "id": "WCLsS23nZOGy"
      }
    },
    {
      "cell_type": "code",
      "source": [
        "print(\"DataFrame con el Ratio de Rentabilidad sobre Fondos Propios por Año:\")\n",
        "print(tabulate(rentabilidad_df, headers=\"keys\", tablefmt=\"fancy_grid\", showindex=True))"
      ],
      "metadata": {
        "id": "pFZGV9arZRYB"
      },
      "execution_count": null,
      "outputs": []
    },
    {
      "cell_type": "code",
      "source": [
        "# Asegúrate de que rentabilidad_df tiene el índice de tipo datetime\n",
        "rentabilidad_df.index = pd.to_datetime(rentabilidad_df.index)\n",
        "\n",
        "# Ordenar el DataFrame por fechas\n",
        "rentabilidad_df = rentabilidad_df.sort_index()\n",
        "\n",
        "# Función para graficar cada columna con eje Y comenzando en 0\n",
        "def graficar_columna(df, columna):\n",
        "    plt.figure(figsize=(10, 6))\n",
        "    plt.plot(df.index, df[columna], marker='o')\n",
        "    plt.title(f'Gráfico de {columna}')\n",
        "    plt.xlabel('Fecha')\n",
        "    plt.ylabel(columna)\n",
        "    plt.ylim(bottom=0)  # Establecer el límite inferior del eje Y a 0\n",
        "    plt.grid(True)\n",
        "    plt.show()\n",
        "\n",
        "# Graficar cada columna del DataFrame\n",
        "for columna in rentabilidad_df.columns:\n",
        "    graficar_columna(rentabilidad_df, columna)"
      ],
      "metadata": {
        "id": "MWT9QjqlZZVp"
      },
      "execution_count": null,
      "outputs": []
    },
    {
      "cell_type": "markdown",
      "source": [
        "***GRÁFICO DE PRECIOS***"
      ],
      "metadata": {
        "id": "jJVcOsr3O6Y5"
      }
    },
    {
      "cell_type": "code",
      "source": [
        "# Asegúrate de que la columna 'date' esté en formato datetime\n",
        "prices_df['date'] = pd.to_datetime(prices_df['date'])\n",
        "\n",
        "# Establecer 'date' como índice\n",
        "prices_df.set_index('date', inplace=True)\n",
        "\n",
        "# Ordenar el DataFrame por fechas\n",
        "prices_df = prices_df.sort_index()\n",
        "\n",
        "# Graficar el DataFrame sin puntos, solo líneas\n",
        "plt.figure(figsize=(12, 6))\n",
        "plt.plot(prices_df.index, prices_df['price'])\n",
        "plt.title('Gráfico de Precios')\n",
        "plt.xlabel('Fecha')\n",
        "plt.ylabel('Precio')\n",
        "plt.ylim(bottom=0)  # Establecer el límite inferior del eje Y a 0\n",
        "plt.grid(True)\n",
        "plt.show()"
      ],
      "metadata": {
        "id": "z495-0RpO-mJ"
      },
      "execution_count": null,
      "outputs": []
    }
  ]
}