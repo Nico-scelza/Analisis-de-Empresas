{
  "nbformat": 4,
  "nbformat_minor": 0,
  "metadata": {
    "colab": {
      "provenance": [],
      "authorship_tag": "ABX9TyPbR9iwHkzqAEzPEouIHPg4"
    },
    "kernelspec": {
      "name": "python3",
      "display_name": "Python 3"
    },
    "language_info": {
      "name": "python"
    }
  },
  "cells": [
    {
      "cell_type": "code",
      "source": [
        "!pip install yfinance"
      ],
      "metadata": {
        "id": "XFWZsqSzMKtJ"
      },
      "execution_count": null,
      "outputs": []
    },
    {
      "cell_type": "code",
      "execution_count": null,
      "metadata": {
        "id": "O8zW7pFbD8al"
      },
      "outputs": [],
      "source": [
        "import requests\n",
        "import pandas as pd\n",
        "import yfinance as yf\n",
        "import numpy as np"
      ]
    },
    {
      "cell_type": "markdown",
      "source": [
        "API KEY y TICKER"
      ],
      "metadata": {
        "id": "M60n9OkDNuO0"
      }
    },
    {
      "cell_type": "code",
      "source": [
        "# Solicita al usuario los datos necesarios\n",
        "api_key = \"N8C0FFUG4981TUB5\"\n",
        "#api_key = input(\"Introduce tu API key de Alpha Vantage: \").strip()\n",
        "symbol = input(\"Introduce el ticker de la acción (ejemplo: AAPL): \").strip().upper()"
      ],
      "metadata": {
        "id": "WnJRcyzdIwzh"
      },
      "execution_count": null,
      "outputs": []
    },
    {
      "cell_type": "markdown",
      "source": [
        "EXTRACCIÓN DE DATOS HISTÓRICOS DE LA ACCIÓN"
      ],
      "metadata": {
        "id": "XZTdhbM7Nxzh"
      }
    },
    {
      "cell_type": "code",
      "source": [
        "# Consulta SIEMPRE la serie diaria NO ajustada y con máximo histórico posible\n",
        "url = f'https://www.alphavantage.co/query?function=TIME_SERIES_DAILY&symbol={symbol}&outputsize=full&apikey={api_key}'\n",
        "\n",
        "r = requests.get(url)\n",
        "data = r.json()\n",
        "\n",
        "# Chequear errores comunes en la respuesta\n",
        "if \"Information\" in data:\n",
        "    print(f\"Alpha Vantage dice: {data['Information']}\")\n",
        "    exit()\n",
        "if \"Note\" in data:\n",
        "    print(f\"Límite de Alpha Vantage alcanzado: {data['Note']}\")\n",
        "    exit()\n",
        "if \"Error Message\" in data:\n",
        "    print(f\"Error de Alpha Vantage: {data['Error Message']}\")\n",
        "    exit()\n",
        "\n",
        "# Busca la clave de la serie temporal\n",
        "series_key = next((k for k in data.keys() if \"Time Series\" in k), None)\n",
        "if not series_key:\n",
        "    print(\"No se encontró la serie temporal. Respuesta de Alpha Vantage:\")\n",
        "    print(data)\n",
        "    exit()\n",
        "\n",
        "df = pd.DataFrame.from_dict(data[series_key], orient=\"index\")\n",
        "df.index = pd.to_datetime(df.index)\n",
        "df = df.sort_index()\n",
        "\n",
        "# Usamos el precio de cierre NO ajustado\n",
        "if '4. close' in df.columns:\n",
        "    df = df[['4. close']].rename(columns={'4. close': 'Close'})\n",
        "else:\n",
        "    print(\"No se encontró la columna '4. close'. Columnas disponibles:\")\n",
        "    print(df.columns)\n",
        "    exit()"
      ],
      "metadata": {
        "id": "Vhu_O0VFI7jE"
      },
      "execution_count": null,
      "outputs": []
    },
    {
      "cell_type": "code",
      "source": [
        "print(df.head())"
      ],
      "metadata": {
        "id": "eFN_TYrcNo4L"
      },
      "execution_count": null,
      "outputs": []
    },
    {
      "cell_type": "markdown",
      "source": [
        "EXTRACCIÓN DE DATOS HISTÓRICOS DEL ÍNDICE"
      ],
      "metadata": {
        "id": "e5TUAYDAN2H0"
      }
    },
    {
      "cell_type": "code",
      "source": [
        "# Mapeo de mercados a índices principales en Yahoo Finance\n",
        "MERCADO_A_INDICE = {\n",
        "    \"NASDAQ\": \"^IXIC\",     # NASDAQ Composite\n",
        "    \"NYSE\": \"^NYA\",        # NYSE Composite\n",
        "    \"S&P500\": \"^GSPC\",     # S&P 500\n",
        "    \"DOWJONES\": \"^DJI\",    # Dow Jones Industrial Average\n",
        "    \"BME\": \"^IBEX\",        # IBEX 35 (España)\n",
        "    \"FTSE\": \"^FTSE\",       # FTSE 100 (UK)\n",
        "    \"HSI\": \"^HSI\",         # Hang Seng (Hong Kong)\n",
        "    # Agrega otros mercados e índices según necesidad\n",
        "}\n",
        "\n",
        "# Usuario ingresa el mercado\n",
        "mercado = input(\"¿En qué mercado cotiza la acción? (Ejemplo: NASDAQ, NYSE, S&P500, BME): \").strip().upper().replace(\" \", \"\")\n",
        "\n",
        "indice = MERCADO_A_INDICE.get(mercado)\n",
        "if not indice:\n",
        "    print(\"No se encontró índice para ese mercado. Símbolos soportados:\")\n",
        "    for m, idx in MERCADO_A_INDICE.items():\n",
        "        print(f\"{m}: {idx}\")\n",
        "    exit()"
      ],
      "metadata": {
        "id": "XR4COoMVKXaf"
      },
      "execution_count": null,
      "outputs": []
    },
    {
      "cell_type": "markdown",
      "source": [
        "LIMPIEZA DE DATOS DEL ÍNDICE POR FECHAS"
      ],
      "metadata": {
        "id": "NLk9gx2yN51O"
      }
    },
    {
      "cell_type": "code",
      "source": [
        "# OBTIENE RANGO DE FECHAS DE TU DATAFRAME df\n",
        "fecha_inicio = df.index.min()\n",
        "fecha_fin = df.index.max()\n",
        "\n",
        "# DESCARGA EL ÍNDICE SOLO EN EL RANGO DE FECHAS\n",
        "indice_df = yf.download(indice, start=str(fecha_inicio.date()), end=str(fecha_fin.date()))\n",
        "\n",
        "if 'Close' in indice_df.columns:\n",
        "    indice_df = indice_df[['Close']]\n",
        "else:\n",
        "    print(\"No se encontró la columna 'Close' en el índice. Columnas disponibles:\")\n",
        "    print(indice_df.columns)\n",
        "    exit()"
      ],
      "metadata": {
        "id": "xooNd7fYMXO7"
      },
      "execution_count": null,
      "outputs": []
    },
    {
      "cell_type": "code",
      "source": [
        "print(indice_df.head())"
      ],
      "metadata": {
        "id": "NfwnJAhlNOfY"
      },
      "execution_count": null,
      "outputs": []
    },
    {
      "cell_type": "markdown",
      "source": [
        "FILTRADO DE DATAFRAMES"
      ],
      "metadata": {
        "id": "UL1r5zWpOTj_"
      }
    },
    {
      "cell_type": "code",
      "source": [
        "# Unimos ambos DataFrames por la fecha (índice), dejando solo las fechas comunes\n",
        "df_accion_filtrado, df_indice_filtrado = df.align(indice_df, join='inner', axis=0)\n",
        "\n",
        "# Convertir a float antes de calcular retornos\n",
        "col = [c for c in df_indice_filtrado.columns if c[0] == 'Close'][0]\n",
        "df_indice_filtrado[col] = pd.to_numeric(df_indice_filtrado[col], errors='coerce')\n",
        "df_accion_filtrado['Close'] = pd.to_numeric(df_accion_filtrado['Close'], errors='coerce')\n",
        "\n",
        "print(\"Fechas coincidentes:\", df_accion_filtrado.shape[0])\n",
        "print(df_accion_filtrado.head())\n",
        "print(df_indice_filtrado.head())"
      ],
      "metadata": {
        "id": "4F_FcYWBNsw7"
      },
      "execution_count": null,
      "outputs": []
    },
    {
      "cell_type": "markdown",
      "source": [
        "CALCULO DE DESVIO ESTANDAR"
      ],
      "metadata": {
        "id": "PPD8XbpDOZqt"
      }
    },
    {
      "cell_type": "code",
      "source": [
        "# Calcula retornos logarítmicos diarios\n",
        "ret_accion = np.log(df_accion_filtrado['Close'] / df_accion_filtrado['Close'].shift(1)).dropna()\n",
        "ret_indice = np.log(df_indice_filtrado[col] / df_indice_filtrado[col].shift(1)).dropna()\n",
        "\n",
        "# Alinear retornos (por si pierden una fecha con el shift)\n",
        "ret_accion, ret_indice = ret_accion.align(ret_indice, join='inner')\n",
        "\n",
        "# Desvío estándar de la acción (volatilidad)\n",
        "desvio_accion = ret_accion.std()\n",
        "\n",
        "# Expresado en porcentaje (%)\n",
        "desvio_accion_pct = desvio_accion * 100\n",
        "\n",
        "print(f\"Desvío estándar de la acción (porcentaje): {desvio_accion_pct:.4f}%\")"
      ],
      "metadata": {
        "id": "NRkmlK3VOdxk"
      },
      "execution_count": null,
      "outputs": []
    },
    {
      "cell_type": "markdown",
      "source": [
        "CALCULO DE COVARIANZA"
      ],
      "metadata": {
        "id": "QkBWHUUvOxrY"
      }
    },
    {
      "cell_type": "code",
      "source": [
        "# Covarianza acción-índice\n",
        "covarianza = np.cov(ret_accion, ret_indice)[0,1]\n",
        "print(f\"Covarianza acción-índice: {covarianza:.6f}\")"
      ],
      "metadata": {
        "id": "BLoh9IP0O29H"
      },
      "execution_count": null,
      "outputs": []
    },
    {
      "cell_type": "markdown",
      "source": [
        "CALCULO DE INDICE DE CORRELACION"
      ],
      "metadata": {
        "id": "segaMF_PTCVh"
      }
    },
    {
      "cell_type": "code",
      "source": [
        "# Covarianza acción-índice\n",
        "covarianza = np.cov(ret_accion, ret_indice)[0,1]\n",
        "print(f\"Covarianza acción-índice: {covarianza:.6f}\")\n",
        "\n",
        "# Índice de correlación (coeficiente de correlación de Pearson)\n",
        "correlacion = np.corrcoef(ret_accion, ret_indice)[0,1]\n",
        "print(f\"Índice de correlación acción-índice: {correlacion:.6f}\")"
      ],
      "metadata": {
        "id": "NdQJiBIdTFQa"
      },
      "execution_count": null,
      "outputs": []
    },
    {
      "cell_type": "markdown",
      "source": [
        "CALCULO DE BETA"
      ],
      "metadata": {
        "id": "iMD4nwHwO0QE"
      }
    },
    {
      "cell_type": "code",
      "source": [
        "# Beta = Cov(accion, indice) / Var(indice)\n",
        "beta = covarianza / ret_indice.var()\n",
        "print(f\"Beta de la acción respecto al índice: {beta:.4f}\")"
      ],
      "metadata": {
        "id": "fcmRHAuzO4aZ"
      },
      "execution_count": null,
      "outputs": []
    },
    {
      "cell_type": "code",
      "source": [
        "# Asegurarse que el índice está en datetime\n",
        "df_accion_filtrado.index = pd.to_datetime(df_accion_filtrado.index)\n",
        "\n",
        "# Calcular retornos logarítmicos diarios\n",
        "ret_accion = np.log(df_accion_filtrado['Close'] / df_accion_filtrado['Close'].shift(1))\n",
        "\n",
        "# Agrupar por año y mes, y calcular la varianza de los retornos diarios en cada mes\n",
        "varianza_mensual = ret_accion.groupby([ret_accion.index.year, ret_accion.index.month]).var()\n",
        "\n",
        "varianza_mensual.index = [f\"{a}-{m:02d}\" for a, m in varianza_mensual.index]\n",
        "varianza_mensual_df = varianza_mensual.to_frame(name='varianza_mensual')\n",
        "\n",
        "promedio_varianza_mensual = varianza_mensual_df['varianza_mensual'].mean()\n",
        "\n",
        "promedio_varianza_mensual_pct2 = promedio_varianza_mensual * 10000\n",
        "print(f\"Varianza mensual promedio (%^2): {promedio_varianza_mensual_pct2:.6f}\")"
      ],
      "metadata": {
        "id": "KJtXpCTdQ1Dr"
      },
      "execution_count": null,
      "outputs": []
    }
  ]
}